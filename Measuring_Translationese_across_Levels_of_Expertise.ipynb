{
 "cells": [
  {
   "cell_type": "markdown",
   "metadata": {},
   "source": [
    "# Students versus Professionals "
   ]
  },
  {
   "cell_type": "code",
   "execution_count": 12,
   "metadata": {},
   "outputs": [
    {
     "data": {
      "text/plain": [
       "('1.10.0', '2.0.9')"
      ]
     },
     "execution_count": 12,
     "metadata": {},
     "output_type": "execute_result"
    }
   ],
   "source": [
    "import glob, random\n",
    "import numpy as np\n",
    "from numpy import array\n",
    "from keras.preprocessing.text import Tokenizer\n",
    "from keras.preprocessing.sequence import pad_sequences\n",
    "from keras.utils import to_categorical\n",
    "from keras.models import Sequential\n",
    "from keras.layers import Dense\n",
    "from keras.layers import LSTM\n",
    "from keras.layers import Embedding\n",
    "import tensorflow as tf\n",
    "import keras.backend as K\n",
    "#keras works on tensorflow\n",
    "import tensorflow as tf\n",
    "import keras\n",
    "tf.VERSION,keras.__version__"
   ]
  },
  {
   "cell_type": "code",
   "execution_count": 3,
   "metadata": {},
   "outputs": [],
   "source": [
    "numpy.random.seed(7)"
   ]
  },
  {
   "cell_type": "code",
   "execution_count": 4,
   "metadata": {},
   "outputs": [],
   "source": [
    "#How the data looks like\n",
    "datdir = \"/Users/yuribizzoni/Downloads/Translation/B7/Ekat/\"\n",
    "original = open(datdir+\"croco_for_english_study/GO/GO_ESSAY_001.conllu\").read()"
   ]
  },
  {
   "cell_type": "code",
   "execution_count": null,
   "metadata": {},
   "outputs": [],
   "source": []
  },
  {
   "cell_type": "code",
   "execution_count": 5,
   "metadata": {},
   "outputs": [],
   "source": [
    "#\n",
    "#Make sequences of German original tags\n",
    "\n",
    "#1. for the new data: we need a pos-extracting function\n",
    "\n",
    "def pos_extraction(line):\n",
    "    final = \"\"\n",
    "    if line.startswith(\"# sent\"): final+=\"\\n\"\n",
    "    elif line.startswith(\"#\"): pass\n",
    "    elif len(line)<2: pass\n",
    "    else: \n",
    "        tab = line.split(\"\\t\")\n",
    "        if len(tab)==10:\n",
    "            pos=tab[3]\n",
    "            final+=pos+\" \"\n",
    "    return final\n",
    "    \n",
    "    \n",
    "\n",
    "def make_poseq(original):\n",
    "    originaline = original.split(\"\\n\")\n",
    "    final=\"\"\"\"\"\"\n",
    "    for line in originaline:\n",
    "        final+=pos_extraction(line)\n",
    "    final = final.replace(\"_\",\"\")\n",
    "    return final\n",
    "\n",
    "\n",
    "def register_calibrated_dataset(n_sentences_for_register, address_names):\n",
    "    final = \"\"\n",
    "    prv = []\n",
    "    for name in address_names:\n",
    "        original = open(name).read()\n",
    "        pos = make_poseq(original)\n",
    "        prv.append(pos.split(\"\\n\"))\n",
    "    for el in prv: \n",
    "        stri=\"\\n\".join(el[:n_sentences_for_register])\n",
    "        final+=stri\n",
    "    return final\n",
    "\n",
    "\n",
    "def poseq(globaddress, random_=False, one_each=0, text_too=False):\n",
    "    \n",
    "    # One_each = if >0, it means how many of each register you want to include\n",
    "    # Random = is the selection randomized?\n",
    "\n",
    "    names = glob.glob(globaddress)\n",
    "    \n",
    "    final = \"\"\"\"\"\"\n",
    "    \n",
    "    if one_each>0:\n",
    "        final+=register_calibrated_dataset(one_each, names)\n",
    "        \n",
    "    else:\n",
    "        for name in names:\n",
    "            original = open(name).read()\n",
    "            final+=make_poseq(original)\n",
    "    if random_: \n",
    "        fin = final.split(\"\\n\")\n",
    "        random.shuffle(fin)\n",
    "        final = \"\\n\".join(fin)\n",
    "    return final\n",
    "\n"
   ]
  },
  {
   "cell_type": "code",
   "execution_count": 6,
   "metadata": {},
   "outputs": [
    {
     "name": "stdout",
     "output_type": "stream",
     "text": [
      "27638\n",
      "\n",
      "PRON VERB PRON ADV ADV ADP DET ADJ NOUN PUNCT SCONJ DET ADJ NOUN ADV VERB PUNCT \n",
      "ADJ ADV PUNCT AUX PRON PRON ADJ NOUN VERB PUNCT \n",
      "NOUN PUNCT NOUN DET NOUN \n",
      " ADP DET NOUN PUNCT  ADP DET ADJ NOUN CCONJ ADV ADP DET NOUN PRON PRON NOUN VERB DET PUNCT PROPN PUNCT NOUN PRON NOUN ADP DET NOUN ADJ NOUN ADJ PUNCT \n",
      "NOUN NOUN PUNCT PRON NOUN CCONJ NOUN PUNCT ADV VERB PRON DET ADJ ADJ NOUN ADP DET PROPN PROP\n"
     ]
    }
   ],
   "source": [
    "original = open(datdir+\"croco_for_english_study/GO/GO_ESSAY_001.conllu\").read()\n",
    "deusenPOS = poseq(datdir+\"croco_for_english_study/GO/*\", one_each=3, random_=False)\n",
    "print(len(deusenPOS))\n",
    "print(deusenPOS[:400])"
   ]
  },
  {
   "cell_type": "code",
   "execution_count": 7,
   "metadata": {},
   "outputs": [
    {
     "data": {
      "text/plain": [
       "15"
      ]
     },
     "execution_count": 7,
     "metadata": {},
     "output_type": "execute_result"
    }
   ],
   "source": [
    "# how large is our vocabulary?\n",
    "tok = deusenPOS.split()\n",
    "len(set(tok))"
   ]
  },
  {
   "cell_type": "markdown",
   "metadata": {},
   "source": [
    "# Making and training the LSTM model"
   ]
  },
  {
   "cell_type": "code",
   "execution_count": 8,
   "metadata": {},
   "outputs": [
    {
     "name": "stdout",
     "output_type": "stream",
     "text": [
      "16\n"
     ]
    }
   ],
   "source": [
    "#Preprocessing\n",
    "\n",
    "tokenizer = Tokenizer()\n",
    "tokenizer.fit_on_texts([deusenPOS])\n",
    "vocab_size = len(tokenizer.word_index) + 1\n",
    "print(vocab_size)"
   ]
  },
  {
   "cell_type": "code",
   "execution_count": 9,
   "metadata": {},
   "outputs": [
    {
     "data": {
      "text/plain": [
       "{'noun': 1,\n",
       " 'punct': 2,\n",
       " 'det': 3,\n",
       " 'adp': 4,\n",
       " 'propn': 5,\n",
       " 'adj': 6,\n",
       " 'verb': 7,\n",
       " 'pron': 8,\n",
       " 'adv': 9,\n",
       " 'cconj': 10,\n",
       " 'aux': 11,\n",
       " 'num': 12,\n",
       " 'part': 13,\n",
       " 'sconj': 14,\n",
       " 'x': 15}"
      ]
     },
     "execution_count": 9,
     "metadata": {},
     "output_type": "execute_result"
    }
   ],
   "source": [
    "tokenizer.word_index # each PoS has an index number"
   ]
  },
  {
   "cell_type": "code",
   "execution_count": 17,
   "metadata": {},
   "outputs": [
    {
     "name": "stdout",
     "output_type": "stream",
     "text": [
      "Total Sequences: 5342\n",
      "Max Sequence Length: 252\n",
      "Vocabulary Size: 16\n"
     ]
    }
   ],
   "source": [
    "#Turn POS into one-shot-vecs\n",
    "\n",
    "#We need a max sentence length. \n",
    "#Emipirically, I will fix it to 252, the longest sequence of both corpora.\n",
    "max_length = 252 #can also be made as long as mean+std length \n",
    "\n",
    "\n",
    "sequences = list()\n",
    "for line in deusenPOS.split(\"\\n\"):\n",
    "    encoded = tokenizer.texts_to_sequences([line])[0]\n",
    "    for i in range(1, len(encoded)):\n",
    "        sequence = encoded[:i+1]\n",
    "        sequences.append(sequence)\n",
    "\n",
    "\n",
    "print('Total Sequences: %d' % len(sequences))\n",
    "print('Max Sequence Length: %d' % max_length) \n",
    "print('Vocabulary Size: %d' % vocab_size)\n",
    "\n",
    "# pad input sequences\n",
    "sequences = pad_sequences(sequences, maxlen=max_length, padding='post')\n",
    "\n",
    "import random\n",
    "random.shuffle(sequences)\n",
    "\n",
    "# split into input and output elements\n",
    "sequences = array(sequences)\n",
    "Xde_or, y = sequences[:,:-1],sequences[:,-1]\n",
    "yde_or = to_categorical(y, num_classes=vocab_size)"
   ]
  },
  {
   "cell_type": "code",
   "execution_count": 92,
   "metadata": {},
   "outputs": [],
   "source": [
    "# define perplexity\n",
    "def perplexity(y_true, y_pred):\n",
    "    cross_entropy = K.categorical_crossentropy(y_true, y_pred) \n",
    "    perplexity = K.pow(2.0, cross_entropy) \n",
    "    return perplexity"
   ]
  },
  {
   "cell_type": "code",
   "execution_count": 18,
   "metadata": {},
   "outputs": [],
   "source": [
    "def model(vocab_size):\n",
    "    model = Sequential()\n",
    "    model.add(Embedding(vocab_size, 10, input_length=max_length-1))\n",
    "    model.add(LSTM(50))\n",
    "    model.add(Dense(vocab_size, activation='softmax'))\n",
    "    print(model.summary())\n",
    "    model.compile(loss='categorical_crossentropy', optimizer='adam', metrics=[perplexity])\n",
    "    return model"
   ]
  },
  {
   "cell_type": "code",
   "execution_count": 19,
   "metadata": {},
   "outputs": [
    {
     "name": "stdout",
     "output_type": "stream",
     "text": [
      "5342\n",
      "(5342, 251) (5342, 16) (5342, 251) (5342, 16)\n"
     ]
    }
   ],
   "source": [
    "# X/Y split\n",
    "n=70000\n",
    "print(len(Xde_or)) #DeOr = Deutsch Original\n",
    "trainX_deor = Xde_or[:n]\n",
    "trainY_deor = yde_or[:n]\n",
    "\n",
    "print(Xde_or.shape, yde_or.shape, trainX_deor.shape, trainY_deor.shape)"
   ]
  },
  {
   "cell_type": "code",
   "execution_count": 95,
   "metadata": {},
   "outputs": [
    {
     "name": "stdout",
     "output_type": "stream",
     "text": [
      "_________________________________________________________________\n",
      "Layer (type)                 Output Shape              Param #   \n",
      "=================================================================\n",
      "embedding_7 (Embedding)      (None, 29, 10)            160       \n",
      "_________________________________________________________________\n",
      "lstm_7 (LSTM)                (None, 50)                12200     \n",
      "_________________________________________________________________\n",
      "dense_7 (Dense)              (None, 16)                816       \n",
      "=================================================================\n",
      "Total params: 13,176\n",
      "Trainable params: 13,176\n",
      "Non-trainable params: 0\n",
      "_________________________________________________________________\n",
      "None\n",
      "Train on 4273 samples, validate on 1069 samples\n",
      "Epoch 1/2\n",
      "4273/4273 [==============================] - 4s 884us/step - loss: 0.9811 - perplexity: 4.6180 - val_loss: 0.8420 - val_perplexity: 4.6337\n",
      "Epoch 2/2\n",
      "4273/4273 [==============================] - 3s 616us/step - loss: 0.5497 - perplexity: 2.8983 - val_loss: 0.5441 - val_perplexity: 2.3412\n"
     ]
    },
    {
     "data": {
      "text/plain": [
       "<keras.callbacks.History at 0xb329866d8>"
      ]
     },
     "execution_count": 95,
     "metadata": {},
     "output_type": "execute_result"
    }
   ],
   "source": [
    "# fit and evaluate the network\n",
    "\n",
    "model_deor = model(vocab_size)\n",
    "\n",
    "model_deor.fit(trainX_deor, trainY_deor, epochs=2, verbose=1, validation_split=.2)\n",
    "#increase epochs as necessary ofc"
   ]
  },
  {
   "cell_type": "code",
   "execution_count": 96,
   "metadata": {},
   "outputs": [
    {
     "name": "stdout",
     "output_type": "stream",
     "text": [
      "5342/5342 [==============================] - 1s 97us/step\n"
     ]
    },
    {
     "data": {
      "text/plain": [
       "[0.4170505398558749, 1.96663568181431]"
      ]
     },
     "execution_count": 96,
     "metadata": {},
     "output_type": "execute_result"
    }
   ],
   "source": [
    "model_deor.evaluate(Xde_or[:],yde_or[:], verbose=1)"
   ]
  },
  {
   "cell_type": "code",
   "execution_count": 21,
   "metadata": {},
   "outputs": [],
   "source": [
    "# We now take the Eglish translations\n",
    "english_tra_tag = \"\"\"\"\"\"\n",
    "tratag1 = poseq(datdir+\"croco_for_english_study/PT/*\") # professionals' PoS\n",
    "tratag2 = poseq(datdir+\"croco_for_english_study/ST/*\") # students' PoS\n",
    "english_tra_tag = tratag1+tratag2 # all together"
   ]
  },
  {
   "cell_type": "code",
   "execution_count": 22,
   "metadata": {},
   "outputs": [
    {
     "name": "stdout",
     "output_type": "stream",
     "text": [
      "\n",
      "PRON NOUN PRON ADV ADJ ADP DET NOUN ADV ADP DET NOUN PROPN PUNCT \n",
      "DET ADJ NOUN VERB ADV ADP NOUN PUNCT CCONJ PRON VERB PUNCT PRON AUX PRON VERB PUNCT PRON ADP PRON ADV ADJ PUNCT \n",
      "DET NOUN VERB ADV ADV ADV NUM NOUN ADJ ADP VERB PUNCT SCONJ PRON ADV PROPN NOUN ADP NUM NOUN PRON NOUN VERB CCONJ DET NOUN ADP PRON ADJ NOUN VERB PUNCT \n",
      "SCONJ ADV NOUN PUNCT \n",
      "NOUN CCONJ DET NOUN ADP PRON NOUN ADJ VERB AUX PUNCT VERB PRON PRON ADV ADV ADJ DET NOUN VERB PUNCT SCONJ PROPN PROPN ADP PRON NOUN ADV  ADP DET \n"
     ]
    }
   ],
   "source": [
    "# this is how the data looks like\n",
    "print(english_tra_tag[:500])"
   ]
  },
  {
   "cell_type": "code",
   "execution_count": 23,
   "metadata": {},
   "outputs": [
    {
     "name": "stdout",
     "output_type": "stream",
     "text": [
      "Total Sequences: 374765\n",
      "Max Sequence Length: 252\n",
      "Number of Lines: 17814 \n"
     ]
    }
   ],
   "source": [
    "# Again, we preprocess the English data this time for training\n",
    "\n",
    "sequences = list()\n",
    "lines = []\n",
    "for line in english_tra_tag.split('\\n'):\n",
    "    lines.append(line)\n",
    "    encoded = tokenizer.texts_to_sequences([line])[0]\n",
    "    for i in range(1, len(encoded)):\n",
    "        sequence = encoded[:i+1]\n",
    "        sequences.append(sequence)\n",
    "print('Total Sequences: %d' % len(sequences))\n",
    "\n",
    "# pad input sequences\n",
    "sequences = pad_sequences(sequences, maxlen=max_length, padding='post')\n",
    "print('Max Sequence Length: %d' % max_length)\n",
    "\n",
    "print(\"Number of Lines: %d \" % len(lines))\n",
    "\n",
    "# split into input and output elements\n",
    "sequences = array(sequences)\n",
    "X_entra, y1 = sequences[:,:-1],sequences[:,-1]\n",
    "y_entra = to_categorical(y1, num_classes=vocab_size)\n"
   ]
  },
  {
   "cell_type": "code",
   "execution_count": 102,
   "metadata": {},
   "outputs": [],
   "source": [
    "# X/Y split\n",
    "n = 1000 \n",
    "X_entr, y_entr = X_entra[:n], y_entra[:n]"
   ]
  },
  {
   "cell_type": "code",
   "execution_count": 103,
   "metadata": {},
   "outputs": [
    {
     "name": "stdout",
     "output_type": "stream",
     "text": [
      "1000/1000 [==============================] - 0s 120us/step\n"
     ]
    },
    {
     "data": {
      "text/plain": [
       "[0.5129205535948277, 2.317960334777832]"
      ]
     },
     "execution_count": 103,
     "metadata": {},
     "output_type": "execute_result"
    }
   ],
   "source": [
    "#Test original German model on all translations\n",
    "model_deor.evaluate(X_entr,y_entr, verbose=1) "
   ]
  },
  {
   "cell_type": "code",
   "execution_count": 104,
   "metadata": {},
   "outputs": [],
   "source": [
    "#Only students\n",
    "english_tagCAT = tratag2"
   ]
  },
  {
   "cell_type": "code",
   "execution_count": 105,
   "metadata": {},
   "outputs": [
    {
     "name": "stdout",
     "output_type": "stream",
     "text": [
      "Total Sequences: 135770\n",
      "Max Sequence Length: 30\n"
     ]
    }
   ],
   "source": [
    "# evaluating only the students\n",
    "sequences = list()\n",
    "lines = []\n",
    "\n",
    "for line in english_tagCAT.split('\\n'):\n",
    "    lines.append(line)\n",
    "    encoded = tokenizer.texts_to_sequences([line])[0]\n",
    "    for i in range(1, len(encoded)):\n",
    "        sequence = encoded[:i+1]\n",
    "        sequences.append(sequence)\n",
    "print('Total Sequences: %d' % len(sequences))\n",
    "\n",
    "# pad input sequences\n",
    "sequences = pad_sequences(sequences, maxlen=max_length, padding='post')\n",
    "print('Max Sequence Length: %d' % max_length)\n",
    "\n",
    "# split into input and output elements\n",
    "sequences_st = array(sequences)\n",
    "X1_st, y1_st = sequences_st[:,:-1],sequences_st[:,-1]\n",
    "y1_st = to_categorical(y1_st, num_classes=vocab_size)"
   ]
  },
  {
   "cell_type": "code",
   "execution_count": 106,
   "metadata": {},
   "outputs": [],
   "source": [
    "#testing the students\n",
    "X_entra_st, y_entra_st = X1_st[:1000], y1_st[:1000]"
   ]
  },
  {
   "cell_type": "code",
   "execution_count": null,
   "metadata": {},
   "outputs": [],
   "source": [
    "#Evaluating only professionals\n",
    "\n",
    "import random\n",
    "names = glob.glob(datdir+\"vartra/pos-repres/PT_*.txt\")"
   ]
  },
  {
   "cell_type": "code",
   "execution_count": 24,
   "metadata": {},
   "outputs": [
    {
     "name": "stdout",
     "output_type": "stream",
     "text": [
      "Total Sequences: 8766\n",
      "number of lines:  393\n"
     ]
    }
   ],
   "source": [
    "# I will write a function that will turn a global address into an X and Y dataset\n",
    "# Ready to split\n",
    "\n",
    "def old_processing(global_address): # just in case we need to process strange encodings\n",
    "    data = \"\"\"\"\"\"\n",
    "    i=0\n",
    "    names = glob.glob(global_address)\n",
    "    for name in names:\n",
    "        try: \n",
    "            prv = open(name).read()\n",
    "            data+=prv\n",
    "        except (UnicodeDecodeError): print(\"Unicode Error\")\n",
    "        i+=1\n",
    "    print(len(data))\n",
    "    return data\n",
    "\n",
    "\n",
    "def make_sequences(data, breaker):\n",
    "    tokenizer = Tokenizer()\n",
    "    tokenizer.fit_on_texts([data])\n",
    "    sequences = list()\n",
    "    c = 0 \n",
    "    broken_data = data.split(breaker)\n",
    "    for line in broken_data:\n",
    "        c+=1\n",
    "        encoded = tokenizer.texts_to_sequences([line])[0]\n",
    "        for i in range(1, len(encoded)):\n",
    "            sequence = encoded[:i+1]\n",
    "            sequences.append(sequence)\n",
    "    print('Total Sequences: %d' % len(sequences))\n",
    "    print(\"number of lines: \", c)\n",
    "    return sequences\n",
    "\n",
    "def from_sequences_to_x_and_y(sequences):\n",
    "    sequences = array(sequences)\n",
    "    X, y = sequences[:,:-1],sequences[:,-1]\n",
    "    Y = to_categorical(y, num_classes=vocab_size)\n",
    "    return X, Y\n",
    "    \n",
    "    \n",
    "def X_and_Y(globaddress, one_each=0,old=False, random_shuff=True,\n",
    "            breaker=\"\\n\",max_length=-1,vocab_size=-1):\n",
    "    \n",
    "    if old: data = old_processing(globaddress)\n",
    "        \n",
    "    else: data = poseq(globaddress, random_=random_shuff, one_each=one_each)\n",
    "\n",
    "    # sequences\n",
    "    sequences = make_sequences(data, breaker)\n",
    "\n",
    "    # pad input sequences\n",
    "    if max_length == -1:\n",
    "        max_length = max([len(seq) for seq in sequences]) #> we keep the original length\n",
    "        print(\"max length set to: \"+str(max_length))\n",
    "    \n",
    "    if vocab_size == -1:\n",
    "        vocab_size = len(tokenizer.word_index) + 1\n",
    "        print(\"vocabulary size set to: \"+str(vocab_size))\n",
    "    \n",
    "    sequences = pad_sequences(sequences, maxlen=max_length, padding='pre', truncating='pre')\n",
    "\n",
    "    # split into input and output elements\n",
    "    X, Y = from_sequences_to_x_and_y(sequences)\n",
    "    \n",
    "    return X, Y\n",
    "\n",
    "X1_pt, y1_pt = X_and_Y(datdir+\"croco_for_english_study/PT/*\",one_each=5,\n",
    "                      max_length=30, vocab_size=vocab_size)"
   ]
  },
  {
   "cell_type": "code",
   "execution_count": 109,
   "metadata": {},
   "outputs": [],
   "source": [
    "#Only professionals\n",
    "n=1000\n",
    "X_entra_pr, y_entra_pr= X1_pt[:n], y1_pt[:n]"
   ]
  },
  {
   "cell_type": "code",
   "execution_count": 25,
   "metadata": {
    "collapsed": true,
    "jupyter": {
     "outputs_hidden": true
    }
   },
   "outputs": [
    {
     "ename": "NameError",
     "evalue": "name 'model_deor' is not defined",
     "output_type": "error",
     "traceback": [
      "\u001b[0;31m---------------------------------------------------------------------------\u001b[0m",
      "\u001b[0;31mNameError\u001b[0m                                 Traceback (most recent call last)",
      "\u001b[0;32m<ipython-input-25-a9c2aa8054b6>\u001b[0m in \u001b[0;36m<module>\u001b[0;34m\u001b[0m\n\u001b[0;32m----> 1\u001b[0;31m \u001b[0meva\u001b[0m \u001b[0;34m=\u001b[0m \u001b[0mmodel_deor\u001b[0m\u001b[0;34m.\u001b[0m\u001b[0mevaluate\u001b[0m\u001b[0;34m(\u001b[0m\u001b[0mX_entra_pr\u001b[0m\u001b[0;34m,\u001b[0m\u001b[0my_entra_pr\u001b[0m\u001b[0;34m,\u001b[0m \u001b[0mverbose\u001b[0m\u001b[0;34m=\u001b[0m\u001b[0;36m1\u001b[0m\u001b[0;34m)\u001b[0m \u001b[0;31m#professionals are structurally more surprising than students?\u001b[0m\u001b[0;34m\u001b[0m\u001b[0;34m\u001b[0m\u001b[0m\n\u001b[0m\u001b[1;32m      2\u001b[0m \u001b[0mprint\u001b[0m\u001b[0;34m(\u001b[0m\u001b[0;34m\"German model perplexity: \"\u001b[0m\u001b[0;34m,\u001b[0m\u001b[0meva\u001b[0m\u001b[0;34m[\u001b[0m\u001b[0;34m-\u001b[0m\u001b[0;36m1\u001b[0m\u001b[0;34m]\u001b[0m\u001b[0;34m)\u001b[0m\u001b[0;34m\u001b[0m\u001b[0;34m\u001b[0m\u001b[0m\n",
      "\u001b[0;31mNameError\u001b[0m: name 'model_deor' is not defined"
     ]
    }
   ],
   "source": [
    "eva = model_deor.evaluate(X_entra_pr,y_entra_pr, verbose=1) #professionals are structurally more surprising than students?\n",
    "print(\"German model perplexity: \",eva[-1])"
   ]
  },
  {
   "cell_type": "code",
   "execution_count": 111,
   "metadata": {},
   "outputs": [
    {
     "name": "stdout",
     "output_type": "stream",
     "text": [
      "Total Sequences: 31997\n",
      "number of lines:  1541\n",
      "Total Sequences: 34161\n",
      "number of lines:  1695\n",
      "Total Sequences: 274638\n",
      "number of lines:  13767\n",
      "Total Sequences: 275139\n",
      "number of lines:  14776\n"
     ]
    }
   ],
   "source": [
    "#Now train the english original model \n",
    "\n",
    "X_eot, y_eot = X_and_Y(datdir+\"croco_for_english_study/EO/*\",one_each=15,\n",
    "                      max_length=30, vocab_size=18)\n",
    "X_dot, y_dot = X_and_Y(datdir+\"croco_for_english_study/GO/*\",one_each=15,\n",
    "                      max_length=30, vocab_size=18)\n",
    "\n",
    "X_eo, y_eo = X_and_Y(datdir+\"croco_for_english_study/EO/*\",one_each=0,\n",
    "                      max_length=30, vocab_size=18)\n",
    "X_do, y_do = X_and_Y(datdir+\"croco_for_english_study/GO/*\",one_each=0,\n",
    "                      max_length=30, vocab_size=18)"
   ]
  },
  {
   "cell_type": "code",
   "execution_count": 112,
   "metadata": {},
   "outputs": [],
   "source": []
  },
  {
   "cell_type": "code",
   "execution_count": 113,
   "metadata": {},
   "outputs": [
    {
     "name": "stdout",
     "output_type": "stream",
     "text": [
      "Total Sequences: 34275\n",
      "number of lines:  1394\n",
      "Total Sequences: 34990\n",
      "number of lines:  1573\n"
     ]
    }
   ],
   "source": [
    "Xlab, ylab = X_and_Y(datdir+\"croco_for_english_study/EO/*POPSCI*\",old=False,\n",
    "                      max_length=30, vocab_size=18)\n",
    "\n",
    "Xlabd, ylabd = X_and_Y(datdir+\"croco_for_english_study/GO/*POPSCI*\",old=False,\n",
    "                      max_length=30, vocab_size=18)"
   ]
  },
  {
   "cell_type": "code",
   "execution_count": 117,
   "metadata": {},
   "outputs": [
    {
     "name": "stdout",
     "output_type": "stream",
     "text": [
      "_________________________________________________________________\n",
      "Layer (type)                 Output Shape              Param #   \n",
      "=================================================================\n",
      "embedding_9 (Embedding)      (None, 29, 10)            180       \n",
      "_________________________________________________________________\n",
      "lstm_9 (LSTM)                (None, 50)                12200     \n",
      "_________________________________________________________________\n",
      "dense_9 (Dense)              (None, 18)                918       \n",
      "=================================================================\n",
      "Total params: 13,298\n",
      "Trainable params: 13,298\n",
      "Non-trainable params: 0\n",
      "_________________________________________________________________\n",
      "None\n",
      "(30000, 29) (30000, 18)\n",
      "Train on 24000 samples, validate on 6000 samples\n",
      "Epoch 1/3\n",
      "24000/24000 [==============================] - 17s 701us/step - loss: 2.2654 - perplexity: 5.8890 - val_loss: 2.0374 - val_perplexity: 5.2177\n",
      "Epoch 2/3\n",
      "24000/24000 [==============================] - 17s 713us/step - loss: 1.9881 - perplexity: 5.3685 - val_loss: 1.9453 - val_perplexity: 5.2381\n",
      "Epoch 3/3\n",
      "24000/24000 [==============================] - 17s 724us/step - loss: 1.9357 - perplexity: 5.3324 - val_loss: 1.9172 - val_perplexity: 5.3261\n"
     ]
    },
    {
     "data": {
      "text/plain": [
       "<keras.callbacks.History at 0xb2c6aec50>"
      ]
     },
     "execution_count": 117,
     "metadata": {},
     "output_type": "execute_result"
    }
   ],
   "source": [
    "model_enor = model(18) ## EnOr = English Original\n",
    "# fit network\n",
    "\n",
    "n=30000\n",
    "\n",
    "trainX_enor = X_eot[:n]\n",
    "trainY_enor = y_eot[:n]\n",
    "\n",
    "print(trainX_enor.shape, trainY_enor.shape)\n",
    "# fit network\n",
    "model_enor.fit(trainX_enor, trainY_enor, epochs=3, verbose=1, validation_split=.2)#10\n",
    "#"
   ]
  },
  {
   "cell_type": "code",
   "execution_count": 122,
   "metadata": {},
   "outputs": [
    {
     "name": "stdout",
     "output_type": "stream",
     "text": [
      "10000/10000 [==============================] - 1s 108us/step\n",
      "10.049359952545165\n",
      "10000/10000 [==============================] - 1s 104us/step\n",
      "9.812494881439209\n",
      "10000/10000 [==============================] - 1s 97us/step\n",
      "9.845601522827149\n",
      "10000/10000 [==============================] - 1s 99us/step\n",
      "9.760291081237792\n",
      "10000/10000 [==============================] - 1s 100us/step\n",
      "9.766912847900391\n",
      "10000/10000 [==============================] - 1s 99us/step\n",
      "9.865225326538086\n",
      "10000/10000 [==============================] - 1s 100us/step\n",
      "9.76642367401123\n",
      "10000/10000 [==============================] - 1s 101us/step\n",
      "9.940634385681152\n",
      "10000/10000 [==============================] - 1s 100us/step\n",
      "10.198026788330077\n",
      "10000/10000 [==============================] - 1s 100us/step\n",
      "9.7982401512146\n"
     ]
    }
   ],
   "source": [
    "#Are values consistent? randomly sampling from English originals\n",
    "for i in range(10):\n",
    "    n=random.randint(3000,len(X_eo))\n",
    "    #print(n)\n",
    "    m=n+10000\n",
    "    res=model_enor.evaluate(X_eo[n:m],y_eo[n:m], verbose=1)\n",
    "    print(res[1])"
   ]
  },
  {
   "cell_type": "code",
   "execution_count": 118,
   "metadata": {},
   "outputs": [
    {
     "name": "stdout",
     "output_type": "stream",
     "text": [
      "100\n",
      "100\n"
     ]
    },
    {
     "data": {
      "text/plain": [
       "Ttest_indResult(statistic=-4.567195893108441, pvalue=8.677525330817084e-06)"
      ]
     },
     "execution_count": 118,
     "metadata": {},
     "output_type": "execute_result"
    }
   ],
   "source": [
    "## A small statistical significance test\n",
    "\n",
    "from scipy.stats import ttest_ind\n",
    "n,m=30000,35000\n",
    "manypers, manypers2 =[],[]\n",
    "for i in range(n,n+100):\n",
    "    manypers.append(model_enor.evaluate(X_eot[i-1:i],y_eot[i-1:i], verbose=0)[1])\n",
    "print(len(manypers))\n",
    "for i in range(n,n+100):\n",
    "    manypers2.append(model_enor.evaluate(X_do[i-1:i],y_do[i-1:i], verbose=0)[1])\n",
    "print(len(manypers2))\n",
    "\n",
    "ttest_ind(manypers,manypers2)"
   ]
  },
  {
   "cell_type": "code",
   "execution_count": 119,
   "metadata": {},
   "outputs": [
    {
     "name": "stdout",
     "output_type": "stream",
     "text": [
      "35000/35000 [==============================] - 3s 99us/step\n"
     ]
    },
    {
     "data": {
      "text/plain": [
       "[2.8671653472355434, 12.642070831516811]"
      ]
     },
     "execution_count": 119,
     "metadata": {},
     "output_type": "execute_result"
    }
   ],
   "source": [
    "#n,m=0,6000\n",
    "model_enor.evaluate(X_do[:m],y_do[:m], verbose=1) # testing on German Originals"
   ]
  },
  {
   "cell_type": "code",
   "execution_count": 121,
   "metadata": {},
   "outputs": [],
   "source": []
  },
  {
   "cell_type": "code",
   "execution_count": 123,
   "metadata": {},
   "outputs": [
    {
     "name": "stdout",
     "output_type": "stream",
     "text": [
      "FICTION\n",
      "Total Sequences: 35177\n",
      "number of lines:  1843\n",
      "600/600 [==============================] - 0s 102us/step\n",
      "13.74291254679362\n",
      "ESSAY\n",
      "Total Sequences: 33700\n",
      "number of lines:  1539\n",
      "600/600 [==============================] - 0s 121us/step\n",
      "8.141197319030761\n",
      "POPSCI\n",
      "Total Sequences: 34275\n",
      "number of lines:  1394\n",
      "600/600 [==============================] - 0s 110us/step\n",
      "10.92416840871175\n",
      "INSTR\n",
      "Total Sequences: 33865\n",
      "number of lines:  2464\n",
      "600/600 [==============================] - 0s 90us/step\n",
      "11.876731147766113\n",
      "SHARE\n",
      "Total Sequences: 34888\n",
      "number of lines:  1550\n",
      "600/600 [==============================] - 0s 90us/step\n",
      "12.216017525990804\n",
      "SPEECH\n",
      "Total Sequences: 33628\n",
      "number of lines:  1596\n",
      "600/600 [==============================] - 0s 90us/step\n",
      "9.92010824839274\n",
      "TOU\n",
      "Total Sequences: 34360\n",
      "number of lines:  1622\n",
      "600/600 [==============================] - 0s 90us/step\n",
      "10.011533393859864\n"
     ]
    }
   ],
   "source": [
    "## English model's perplexity on some categories of Student translation\n",
    "# (change n and m if needed)\n",
    "\n",
    "pnine=[]\n",
    "setto = \"\"\"FICTION ESSAY POPSCI INSTR SHARE SPEECH TOU\"\"\".split()\n",
    "for s in setto:\n",
    "    print(s)\n",
    "    Xlab, ylab = X_and_Y(datdir+\"croco_for_english_study/EO/*\"+s+\"*\",old=False,\n",
    "                        max_length=30, vocab_size=18)\n",
    "\n",
    "    n,m=0,600\n",
    "    res = model_enor.evaluate(Xlab[n:m],ylab[n:m], verbose=1)[1]\n",
    "    print(res)\n",
    "    pnine.append(res)"
   ]
  },
  {
   "cell_type": "code",
   "execution_count": 126,
   "metadata": {},
   "outputs": [
    {
     "name": "stdout",
     "output_type": "stream",
     "text": [
      "_________________________________________________________________\n",
      "Layer (type)                 Output Shape              Param #   \n",
      "=================================================================\n",
      "embedding_10 (Embedding)     (None, 29, 10)            180       \n",
      "_________________________________________________________________\n",
      "lstm_10 (LSTM)               (None, 50)                12200     \n",
      "_________________________________________________________________\n",
      "dense_10 (Dense)             (None, 18)                918       \n",
      "=================================================================\n",
      "Total params: 13,298\n",
      "Trainable params: 13,298\n",
      "Non-trainable params: 0\n",
      "_________________________________________________________________\n",
      "None\n",
      "Train on 24000 samples, validate on 6000 samples\n",
      "Epoch 1/3\n",
      "24000/24000 [==============================] - 16s 677us/step - loss: 2.1861 - perplexity: 5.5952 - val_loss: 1.9938 - val_perplexity: 5.1262\n",
      "Epoch 2/3\n",
      "24000/24000 [==============================] - 15s 642us/step - loss: 1.9454 - perplexity: 5.2283 - val_loss: 1.9068 - val_perplexity: 5.0908\n",
      "Epoch 3/3\n",
      "24000/24000 [==============================] - 17s 708us/step - loss: 1.8913 - perplexity: 5.1375 - val_loss: 1.8809 - val_perplexity: 5.0099\n"
     ]
    },
    {
     "data": {
      "text/plain": [
       "<keras.callbacks.History at 0xb2a3e9c50>"
      ]
     },
     "execution_count": 126,
     "metadata": {},
     "output_type": "execute_result"
    }
   ],
   "source": [
    "# Train theDeutsch Original again, with a larger vocab size \n",
    "n = 30000\n",
    "model_deor = model(18)\n",
    "model_deor.fit(X_dot[:n], y_dot[:n], epochs=3, verbose=1, validation_split=.2)"
   ]
  },
  {
   "cell_type": "code",
   "execution_count": 127,
   "metadata": {},
   "outputs": [
    {
     "data": {
      "text/plain": [
       "34161"
      ]
     },
     "execution_count": 127,
     "metadata": {},
     "output_type": "execute_result"
    }
   ],
   "source": [
    "len(X_dot)"
   ]
  },
  {
   "cell_type": "code",
   "execution_count": 128,
   "metadata": {},
   "outputs": [
    {
     "name": "stdout",
     "output_type": "stream",
     "text": [
      "10000/10000 [==============================] - 1s 110us/step\n",
      "5.802851578521729\n",
      "10000/10000 [==============================] - 1s 108us/step\n",
      "6.017208496856689\n",
      "10000/10000 [==============================] - 1s 102us/step\n",
      "6.122104619598389\n",
      "10000/10000 [==============================] - 1s 118us/step\n",
      "5.908906713104248\n",
      "10000/10000 [==============================] - 1s 117us/step\n",
      "5.973938494110107\n",
      "10000/10000 [==============================] - 1s 104us/step\n",
      "5.900920376586914\n",
      "10000/10000 [==============================] - 1s 105us/step\n",
      "5.968314621734619\n",
      "10000/10000 [==============================] - 1s 103us/step\n",
      "5.971332264709472\n",
      "10000/10000 [==============================] - 1s 97us/step\n",
      "5.872017536926269\n",
      "10000/10000 [==============================] - 1s 97us/step\n",
      "6.029656967926026\n"
     ]
    }
   ],
   "source": [
    "#labation+\n",
    "for i in range(10):\n",
    "    n=random.randint(3000,len(X_do))\n",
    "    m=n+10000\n",
    "    res=model_deor.evaluate(X_do[n:m],y_do[n:m], verbose=1)\n",
    "    print(res[1])"
   ]
  },
  {
   "cell_type": "code",
   "execution_count": 129,
   "metadata": {},
   "outputs": [
    {
     "name": "stdout",
     "output_type": "stream",
     "text": [
      "100\n",
      "100\n"
     ]
    },
    {
     "data": {
      "text/plain": [
       "Ttest_indResult(statistic=5.023673608984059, pvalue=1.1290991541362082e-06)"
      ]
     },
     "execution_count": 129,
     "metadata": {},
     "output_type": "execute_result"
    }
   ],
   "source": [
    "from scipy.stats import ttest_ind\n",
    "n,m=30000,31000\n",
    "manypers, manypers2 =[],[]\n",
    "for i in range(n,n+100):\n",
    "    manypers.append(model_deor.evaluate(X_eot[i-1:i],y_eot[i-1:i], verbose=0)[1])\n",
    "print(len(manypers))\n",
    "for i in range(m,m+100):\n",
    "    #print(i)\n",
    "    manypers2.append(model_deor.evaluate(X_dot[i-1:i],y_dot[i-1:i], verbose=0)[1])\n",
    "print(len(manypers2))\n",
    "\n",
    "ttest_ind(manypers,manypers2)"
   ]
  },
  {
   "cell_type": "code",
   "execution_count": 130,
   "metadata": {},
   "outputs": [
    {
     "name": "stdout",
     "output_type": "stream",
     "text": [
      "50000/50000 [==============================] - 5s 97us/step\n"
     ]
    },
    {
     "data": {
      "text/plain": [
       "[3.0167825508117674, 15.366721502685547]"
      ]
     },
     "execution_count": 130,
     "metadata": {},
     "output_type": "execute_result"
    }
   ],
   "source": [
    "n=50000\n",
    "model_deor.evaluate(X_eo[:n],y_eo[:n], verbose=1)"
   ]
  },
  {
   "cell_type": "code",
   "execution_count": 131,
   "metadata": {},
   "outputs": [
    {
     "name": "stdout",
     "output_type": "stream",
     "text": [
      "FICTION\n",
      "Total Sequences: 34972\n",
      "number of lines:  1942\n",
      "8000/8000 [==============================] - 1s 97us/step\n",
      "[3.22089653301239, 15.89577233505249]\n",
      "ESSAY\n",
      "Total Sequences: 34395\n",
      "number of lines:  1768\n",
      "8000/8000 [==============================] - 1s 97us/step\n",
      "[2.7872895154953, 11.635519088745117]\n",
      "POPSCI\n",
      "Total Sequences: 34990\n",
      "number of lines:  1573\n",
      "8000/8000 [==============================] - 1s 96us/step\n",
      "[2.8127399883270265, 11.139602266311645]\n",
      "TOU\n",
      "Total Sequences: 34839\n",
      "number of lines:  1726\n",
      "8000/8000 [==============================] - 1s 97us/step\n",
      "[2.708956852436066, 11.550650247573852]\n"
     ]
    }
   ],
   "source": [
    "n=8000\n",
    "for el in \"\"\"FICTION ESSAY POPSCI TOU\"\"\".split():\n",
    "    print(el)\n",
    "    Xlab, ylab = X_and_Y(datdir+\"croco_for_english_study/GO/*\"+el+\"*\",old=False,\n",
    "                          max_length=30, vocab_size=18)\n",
    "    eva=model_enor.evaluate(Xlab[:n],ylab[:n], verbose=1)\n",
    "    print(eva)"
   ]
  },
  {
   "cell_type": "code",
   "execution_count": null,
   "metadata": {},
   "outputs": [],
   "source": []
  },
  {
   "cell_type": "code",
   "execution_count": null,
   "metadata": {},
   "outputs": [],
   "source": []
  },
  {
   "cell_type": "markdown",
   "metadata": {},
   "source": [
    "Are these differences statistically significant? We check"
   ]
  },
  {
   "cell_type": "code",
   "execution_count": 155,
   "metadata": {},
   "outputs": [],
   "source": [
    "english_perplexity = {\"eo\":[], \"go\":[], \"gst\":[], \"gpr\":[]}\n",
    "german_perplexity = {\"eo\":[],\"go\":[], \"gst\":[], \"gpr\":[]}"
   ]
  },
  {
   "cell_type": "code",
   "execution_count": 156,
   "metadata": {},
   "outputs": [
    {
     "name": "stdout",
     "output_type": "stream",
     "text": [
      "Total Sequences: 43802\n",
      "number of lines:  2091\n",
      "Total Sequences: 46572\n",
      "number of lines:  2300\n"
     ]
    }
   ],
   "source": [
    "X_eot, y_eot = X_and_Y(datdir+\"croco_for_english_study/EO/*\",one_each=20,\n",
    "                      max_length=30, vocab_size=18)\n",
    "X_dot, y_dot = X_and_Y(datdir+\"croco_for_english_study/GO/*\",one_each=20, \n",
    "                      max_length=30, vocab_size=18)"
   ]
  },
  {
   "cell_type": "code",
   "execution_count": 157,
   "metadata": {
    "collapsed": true,
    "jupyter": {
     "outputs_hidden": true
    }
   },
   "outputs": [
    {
     "name": "stdout",
     "output_type": "stream",
     "text": [
      "\n",
      " 0\n",
      "40719 40779\n",
      "60/60 [==============================] - 0s 558us/step\n",
      "60/60 [==============================] - 0s 215us/step\n",
      "19.175760078430176 9.451172320048014\n",
      "60/60 [==============================] - 0s 171us/step\n",
      "60/60 [==============================] - 0s 150us/step\n",
      "5.99175500869751 11.26974983215332\n",
      "\n",
      " 1\n",
      "38815 38875\n",
      "60/60 [==============================] - 0s 186us/step\n",
      "60/60 [==============================] - 0s 144us/step\n",
      "23.723910776774087 7.429380480448405\n",
      "60/60 [==============================] - 0s 150us/step\n",
      "60/60 [==============================] - 0s 133us/step\n",
      "5.4529190381368 16.638075637817384\n",
      "\n",
      " 2\n",
      "38615 38675\n",
      "60/60 [==============================] - 0s 170us/step\n",
      "60/60 [==============================] - 0s 161us/step\n",
      "15.894185129801432 22.499593353271486\n",
      "60/60 [==============================] - 0s 146us/step\n",
      "60/60 [==============================] - 0s 147us/step\n",
      "4.959738922119141 13.764262390136718\n",
      "\n",
      " 3\n",
      "41907 41967\n",
      "60/60 [==============================] - 0s 167us/step\n",
      "60/60 [==============================] - 0s 156us/step\n",
      "14.921982192993164 14.241153971354167\n",
      "60/60 [==============================] - 0s 158us/step\n",
      "60/60 [==============================] - 0s 142us/step\n",
      "5.709143511454264 12.850921630859375\n",
      "\n",
      " 4\n",
      "43724 43784\n",
      "60/60 [==============================] - 0s 162us/step\n",
      "60/60 [==============================] - 0s 141us/step\n",
      "14.111265309651692 8.91252940495809\n",
      "60/60 [==============================] - 0s 165us/step\n",
      "60/60 [==============================] - 0s 149us/step\n",
      "4.933654181162516 14.211051177978515\n",
      "\n",
      " 5\n",
      "39221 39281\n",
      "60/60 [==============================] - 0s 153us/step\n",
      "60/60 [==============================] - 0s 144us/step\n",
      "17.146957143147787 8.648626263936361\n",
      "60/60 [==============================] - 0s 181us/step\n",
      "60/60 [==============================] - 0s 160us/step\n",
      "4.635797087351481 12.956387329101563\n",
      "\n",
      " 6\n",
      "38953 39013\n",
      "60/60 [==============================] - 0s 165us/step\n",
      "60/60 [==============================] - 0s 146us/step\n",
      "14.312351417541503 10.880279890696208\n",
      "60/60 [==============================] - 0s 154us/step\n",
      "60/60 [==============================] - 0s 141us/step\n",
      "4.968643983205159 12.1439027150472\n",
      "\n",
      " 7\n",
      "39438 39498\n",
      "60/60 [==============================] - 0s 159us/step\n",
      "60/60 [==============================] - 0s 162us/step\n",
      "14.540103022257487 7.579402128855388\n",
      "60/60 [==============================] - 0s 155us/step\n",
      "60/60 [==============================] - 0s 140us/step\n",
      "4.235783926645914 11.043710009257\n",
      "\n",
      " 8\n",
      "40469 40529\n",
      "60/60 [==============================] - 0s 152us/step\n",
      "60/60 [==============================] - 0s 150us/step\n",
      "14.291299311319987 7.667424074808756\n",
      "60/60 [==============================] - 0s 155us/step\n",
      "60/60 [==============================] - 0s 190us/step\n",
      "3.928868532180786 12.749268786112468\n",
      "\n",
      " 9\n",
      "42571 42631\n",
      "60/60 [==============================] - 0s 208us/step\n",
      "60/60 [==============================] - 0s 255us/step\n",
      "15.857608858744303 10.896690718332927\n",
      "60/60 [==============================] - 0s 209us/step\n",
      "60/60 [==============================] - 0s 205us/step\n",
      "4.625507640838623 15.590032641092936\n",
      "\n",
      " 10\n",
      "40759 40819\n",
      "60/60 [==============================] - 0s 183us/step\n",
      "60/60 [==============================] - 0s 152us/step\n",
      "12.869118817647298 5.716763257980347\n",
      "60/60 [==============================] - 0s 157us/step\n",
      "60/60 [==============================] - 0s 146us/step\n",
      "7.615901724497477 10.06004556020101\n",
      "\n",
      " 11\n",
      "40740 40800\n",
      "60/60 [==============================] - 0s 153us/step\n",
      "60/60 [==============================] - 0s 166us/step\n",
      "16.63956298828125 7.994618129730225\n",
      "60/60 [==============================] - 0s 162us/step\n",
      "60/60 [==============================] - 0s 150us/step\n",
      "7.455749384562174 9.595989608764649\n",
      "\n",
      " 12\n",
      "40306 40366\n",
      "60/60 [==============================] - 0s 185us/step\n",
      "60/60 [==============================] - 0s 150us/step\n",
      "13.675506973266602 11.878614934285482\n",
      "60/60 [==============================] - 0s 176us/step\n",
      "60/60 [==============================] - 0s 145us/step\n",
      "8.351878547668457 12.063213793436686\n",
      "\n",
      " 13\n",
      "40000 40060\n",
      "60/60 [==============================] - 0s 156us/step\n",
      "60/60 [==============================] - 0s 143us/step\n",
      "13.824118105570475 11.516506512959799\n",
      "60/60 [==============================] - 0s 151us/step\n",
      "60/60 [==============================] - 0s 142us/step\n",
      "4.389231443405151 9.559156672159832\n",
      "\n",
      " 14\n",
      "40067 40127\n",
      "60/60 [==============================] - 0s 150us/step\n",
      "60/60 [==============================] - 0s 157us/step\n",
      "14.854623794555664 14.726776885986329\n",
      "60/60 [==============================] - 0s 150us/step\n",
      "60/60 [==============================] - 0s 147us/step\n",
      "6.774117724100749 12.209964307149251\n",
      "\n",
      " 15\n",
      "41698 41758\n",
      "60/60 [==============================] - 0s 150us/step\n",
      "60/60 [==============================] - 0s 146us/step\n",
      "18.478998947143555 9.712027581532796\n",
      "60/60 [==============================] - 0s 160us/step\n",
      "60/60 [==============================] - 0s 150us/step\n",
      "4.425064500172933 10.961584186553955\n",
      "\n",
      " 16\n",
      "40184 40244\n",
      "60/60 [==============================] - 0s 164us/step\n",
      "60/60 [==============================] - 0s 141us/step\n",
      "16.30039914449056 7.670289993286133\n",
      "60/60 [==============================] - 0s 169us/step\n",
      "60/60 [==============================] - 0s 141us/step\n",
      "6.005518674850464 12.958482042948406\n",
      "\n",
      " 17\n",
      "41106 41166\n",
      "60/60 [==============================] - 0s 146us/step\n",
      "60/60 [==============================] - 0s 143us/step\n",
      "9.543423748016357 12.111797968546549\n",
      "60/60 [==============================] - 0s 157us/step\n",
      "60/60 [==============================] - 0s 144us/step\n",
      "6.896145184834798 16.565705998738608\n",
      "\n",
      " 18\n",
      "41526 41586\n",
      "60/60 [==============================] - 0s 155us/step\n",
      "60/60 [==============================] - 0s 158us/step\n",
      "11.217248026529948 7.0185322761535645\n",
      "60/60 [==============================] - 0s 171us/step\n",
      "60/60 [==============================] - 0s 178us/step\n",
      "5.040902201334635 13.600464057922363\n",
      "\n",
      " 19\n",
      "44016 44076\n",
      "60/60 [==============================] - 0s 160us/step\n",
      "60/60 [==============================] - 0s 150us/step\n",
      "13.25961513519287 9.532671356201172\n",
      "60/60 [==============================] - 0s 169us/step\n",
      "60/60 [==============================] - 0s 150us/step\n",
      "4.173722473780314 14.333425394694011\n",
      "\n",
      " 20\n",
      "38565 38625\n",
      "60/60 [==============================] - 0s 147us/step\n",
      "60/60 [==============================] - 0s 155us/step\n",
      "14.442804209391277 15.123726526896158\n",
      "60/60 [==============================] - 0s 143us/step\n",
      "60/60 [==============================] - 0s 153us/step\n",
      "5.732161156336466 11.116144434611003\n",
      "\n",
      " 21\n",
      "42156 42216\n",
      "60/60 [==============================] - 0s 177us/step\n",
      "60/60 [==============================] - 0s 145us/step\n",
      "36.03719272613525 16.33767992655436\n",
      "60/60 [==============================] - 0s 163us/step\n",
      "60/60 [==============================] - 0s 148us/step\n",
      "5.653906599680583 10.780717690785727\n",
      "\n",
      " 22\n",
      "39896 39956\n",
      "60/60 [==============================] - 0s 155us/step\n",
      "60/60 [==============================] - 0s 147us/step\n",
      "10.651983801523844 10.873048496246337\n",
      "60/60 [==============================] - 0s 155us/step\n",
      "60/60 [==============================] - 0s 144us/step\n",
      "6.35776096979777 9.47718957265218\n",
      "\n",
      " 23\n",
      "39745 39805\n",
      "60/60 [==============================] - 0s 176us/step\n",
      "60/60 [==============================] - 0s 146us/step\n",
      "14.278257242838542 8.470628515879314\n",
      "60/60 [==============================] - 0s 164us/step\n",
      "60/60 [==============================] - 0s 159us/step\n",
      "6.429799747467041 10.681210645039876\n",
      "\n",
      " 24\n",
      "41966 42026\n",
      "60/60 [==============================] - 0s 157us/step\n",
      "60/60 [==============================] - 0s 141us/step\n",
      "15.579482650756836 13.50386021931966\n",
      "60/60 [==============================] - 0s 157us/step\n",
      "60/60 [==============================] - 0s 149us/step\n",
      "5.0084352175394695 14.11910540262858\n",
      "\n",
      " 25\n",
      "37650 37710\n",
      "60/60 [==============================] - 0s 171us/step\n",
      "60/60 [==============================] - 0s 146us/step\n",
      "12.999076843261719 12.414993794759114\n",
      "60/60 [==============================] - 0s 162us/step\n",
      "60/60 [==============================] - 0s 143us/step\n",
      "5.479341634114584 10.851262537638346\n",
      "\n",
      " 26\n",
      "39151 39211\n",
      "60/60 [==============================] - 0s 160us/step\n",
      "60/60 [==============================] - 0s 140us/step\n",
      "16.89531853993734 16.33154843648275\n",
      "60/60 [==============================] - 0s 158us/step\n",
      "60/60 [==============================] - 0s 154us/step\n",
      "6.926448122660319 11.064455731709797\n",
      "\n",
      " 27\n",
      "41008 41068\n",
      "60/60 [==============================] - 0s 150us/step\n",
      "60/60 [==============================] - 0s 155us/step\n",
      "17.90756518046061 9.884050051371256\n",
      "60/60 [==============================] - 0s 153us/step\n",
      "60/60 [==============================] - 0s 152us/step\n",
      "6.199018573760986 13.938136291503906\n",
      "\n",
      " 28\n",
      "37444 37504\n",
      "60/60 [==============================] - 0s 157us/step\n",
      "60/60 [==============================] - 0s 147us/step\n",
      "16.437843958536785 14.318463389078776\n",
      "60/60 [==============================] - 0s 152us/step\n",
      "60/60 [==============================] - 0s 151us/step\n",
      "5.442499732971191 11.249924659729004\n",
      "\n",
      " 29\n",
      "41880 41940\n",
      "60/60 [==============================] - 0s 143us/step\n",
      "60/60 [==============================] - 0s 141us/step\n",
      "12.284709167480468 11.050731786092122\n",
      "60/60 [==============================] - 0s 152us/step\n",
      "60/60 [==============================] - 0s 147us/step\n",
      "5.819398244222005 10.621910985310873\n",
      "\n",
      " 30\n",
      "37886 37946\n",
      "60/60 [==============================] - 0s 154us/step\n",
      "60/60 [==============================] - 0s 140us/step\n",
      "11.619308535257975 7.7925212224324545\n",
      "60/60 [==============================] - 0s 161us/step\n",
      "60/60 [==============================] - 0s 139us/step\n",
      "6.156685860951741 9.90186684926351\n",
      "\n",
      " 31\n",
      "43407 43467\n",
      "60/60 [==============================] - 0s 159us/step\n",
      "60/60 [==============================] - 0s 145us/step\n",
      "14.526749801635741 7.775271987915039\n",
      "60/60 [==============================] - 0s 147us/step\n",
      "60/60 [==============================] - 0s 143us/step\n",
      "5.6849702517191565 11.144029426574708\n",
      "\n",
      " 32\n",
      "41336 41396\n",
      "60/60 [==============================] - 0s 149us/step\n",
      "60/60 [==============================] - 0s 146us/step\n",
      "29.31924336751302 12.14416535695394\n",
      "60/60 [==============================] - 0s 149us/step\n",
      "60/60 [==============================] - 0s 144us/step\n",
      "4.930023924509684 8.855122184753418\n",
      "\n",
      " 33\n",
      "42230 42290\n",
      "60/60 [==============================] - 0s 145us/step\n",
      "60/60 [==============================] - 0s 148us/step\n",
      "14.171260007222493 7.802389653523763\n",
      "60/60 [==============================] - 0s 151us/step\n",
      "60/60 [==============================] - 0s 147us/step\n",
      "6.874615414937337 10.537035751342774\n",
      "\n",
      " 34\n",
      "37204 37264\n",
      "60/60 [==============================] - 0s 162us/step\n",
      "60/60 [==============================] - 0s 137us/step\n",
      "27.855770365397134 9.399050267537435\n",
      "60/60 [==============================] - 0s 145us/step\n",
      "60/60 [==============================] - 0s 133us/step\n",
      "5.8039548873901365 10.287130737304688\n",
      "\n",
      " 35\n",
      "41289 41349\n",
      "60/60 [==============================] - 0s 142us/step\n",
      "60/60 [==============================] - 0s 146us/step\n",
      "11.625850486755372 8.646731758117676\n",
      "60/60 [==============================] - 0s 175us/step\n",
      "60/60 [==============================] - 0s 150us/step\n",
      "5.484543418884277 8.178697649637858\n",
      "\n",
      " 36\n",
      "40164 40224\n",
      "60/60 [==============================] - 0s 142us/step\n",
      "60/60 [==============================] - 0s 135us/step\n",
      "13.969948132832846 6.2939045588175455\n",
      "60/60 [==============================] - 0s 133us/step\n",
      "60/60 [==============================] - 0s 139us/step\n",
      "7.661823717753093 14.230300521850586\n",
      "\n",
      " 37\n",
      "36467 36527\n",
      "60/60 [==============================] - 0s 156us/step\n",
      "60/60 [==============================] - 0s 141us/step\n",
      "12.436551094055176 7.670309829711914\n",
      "60/60 [==============================] - 0s 150us/step\n",
      "60/60 [==============================] - 0s 151us/step\n",
      "4.335622882843017 11.212665239969889\n",
      "\n",
      " 38\n",
      "37480 37540\n",
      "60/60 [==============================] - 0s 155us/step\n",
      "60/60 [==============================] - 0s 148us/step\n",
      "13.252164713541667 14.064625485738118\n",
      "60/60 [==============================] - 0s 158us/step\n",
      "60/60 [==============================] - 0s 150us/step\n",
      "6.875848197937012 14.335921669006348\n",
      "\n",
      " 39\n",
      "40943 41003\n",
      "60/60 [==============================] - 0s 168us/step\n",
      "60/60 [==============================] - 0s 147us/step\n",
      "13.740673192342122 9.112891070048015\n",
      "60/60 [==============================] - 0s 146us/step\n",
      "60/60 [==============================] - 0s 148us/step\n",
      "5.247468535105387 13.733899625142415\n",
      "\n",
      " 40\n",
      "37155 37215\n",
      "60/60 [==============================] - 0s 148us/step\n",
      "60/60 [==============================] - 0s 138us/step\n",
      "14.56079355875651 8.502274068196614\n",
      "60/60 [==============================] - 0s 157us/step\n",
      "60/60 [==============================] - 0s 143us/step\n",
      "6.110407924652099 12.079215876261394\n",
      "\n",
      " 41\n",
      "40781 40841\n",
      "60/60 [==============================] - 0s 160us/step\n",
      "60/60 [==============================] - 0s 147us/step\n",
      "19.148073450724283 7.051942571004232\n",
      "60/60 [==============================] - 0s 140us/step\n",
      "60/60 [==============================] - 0s 137us/step\n",
      "6.8800564448038735 11.928004519144695\n",
      "\n",
      " 42\n",
      "37812 37872\n",
      "60/60 [==============================] - 0s 128us/step\n",
      "60/60 [==============================] - 0s 128us/step\n",
      "19.500189971923827 16.307382837931314\n",
      "60/60 [==============================] - 0s 147us/step\n",
      "60/60 [==============================] - 0s 155us/step\n",
      "7.671920585632324 15.039306513468425\n",
      "\n",
      " 43\n",
      "41240 41300\n",
      "60/60 [==============================] - 0s 146us/step\n",
      "60/60 [==============================] - 0s 140us/step\n",
      "23.654981295267742 6.634578291575114\n",
      "60/60 [==============================] - 0s 139us/step\n",
      "60/60 [==============================] - 0s 129us/step\n",
      "7.016172790527344 14.123308372497558\n",
      "\n",
      " 44\n",
      "39009 39069\n",
      "60/60 [==============================] - 0s 152us/step\n",
      "60/60 [==============================] - 0s 132us/step\n",
      "13.441625912984213 10.034970951080322\n",
      "60/60 [==============================] - 0s 128us/step\n",
      "60/60 [==============================] - 0s 127us/step\n",
      "5.76179396311442 10.723972256978353\n",
      "\n",
      " 45\n",
      "34434 34494\n",
      "60/60 [==============================] - 0s 165us/step\n",
      "60/60 [==============================] - 0s 132us/step\n",
      "14.575264167785644 14.27724609375\n",
      "60/60 [==============================] - 0s 165us/step\n",
      "60/60 [==============================] - 0s 138us/step\n",
      "5.895569292704264 13.72977949778239\n",
      "\n",
      " 46\n",
      "37435 37495\n",
      "60/60 [==============================] - 0s 126us/step\n",
      "60/60 [==============================] - 0s 124us/step\n",
      "18.312695693969726 13.30030403137207\n",
      "60/60 [==============================] - 0s 129us/step\n",
      "60/60 [==============================] - 0s 125us/step\n",
      "5.249286301930746 9.772499656677246\n",
      "\n",
      " 47\n",
      "38937 38997\n",
      "60/60 [==============================] - 0s 151us/step\n",
      "60/60 [==============================] - 0s 127us/step\n",
      "13.790168126424154 11.04997501373291\n",
      "60/60 [==============================] - 0s 135us/step\n",
      "60/60 [==============================] - 0s 124us/step\n",
      "4.731855233510335 11.501268577575683\n",
      "\n",
      " 48\n",
      "37550 37610\n",
      "60/60 [==============================] - 0s 139us/step\n",
      "60/60 [==============================] - 0s 134us/step\n",
      "13.110542678833008 17.61149813334147\n",
      "60/60 [==============================] - 0s 129us/step\n",
      "60/60 [==============================] - 0s 131us/step\n",
      "4.528997770945231 13.415113830566407\n",
      "\n",
      " 49\n",
      "40015 40075\n",
      "60/60 [==============================] - 0s 149us/step\n",
      "60/60 [==============================] - 0s 142us/step\n",
      "14.850288581848144 11.606462955474854\n",
      "60/60 [==============================] - 0s 138us/step\n",
      "60/60 [==============================] - 0s 136us/step\n",
      "4.4618715445200605 10.251500447591146\n",
      "\n",
      " 50\n",
      "37357 37417\n",
      "60/60 [==============================] - 0s 164us/step\n",
      "60/60 [==============================] - 0s 148us/step\n",
      "10.168432013193767 6.291261990865071\n",
      "60/60 [==============================] - 0s 151us/step\n",
      "60/60 [==============================] - 0s 143us/step\n",
      "6.380988756815593 14.056035232543945\n",
      "\n",
      " 51\n",
      "41138 41198\n",
      "60/60 [==============================] - 0s 140us/step\n",
      "60/60 [==============================] - 0s 136us/step\n",
      "12.783147557576497 8.82703456878662\n",
      "60/60 [==============================] - 0s 141us/step\n",
      "60/60 [==============================] - 0s 141us/step\n",
      "5.716247526804606 10.193082745869955\n",
      "\n",
      " 52\n",
      "38959 39019\n",
      "60/60 [==============================] - 0s 157us/step\n",
      "60/60 [==============================] - 0s 153us/step\n",
      "13.841116269429525 10.744549496968586\n",
      "60/60 [==============================] - 0s 142us/step\n",
      "60/60 [==============================] - 0s 134us/step\n",
      "5.252428150177002 12.12370154062907\n",
      "\n",
      " 53\n",
      "36325 36385\n",
      "60/60 [==============================] - 0s 145us/step\n",
      "60/60 [==============================] - 0s 129us/step\n",
      "10.65358829498291 5.993602657318116\n",
      "60/60 [==============================] - 0s 135us/step\n",
      "60/60 [==============================] - 0s 125us/step\n",
      "9.21694901784261 17.48959312438965\n",
      "\n",
      " 54\n",
      "37026 37086\n",
      "60/60 [==============================] - 0s 140us/step\n",
      "60/60 [==============================] - 0s 140us/step\n",
      "10.54326286315918 13.409257125854491\n",
      "60/60 [==============================] - 0s 135us/step\n",
      "60/60 [==============================] - 0s 141us/step\n",
      "7.746434084574381 14.82146822611491\n",
      "\n",
      " 55\n",
      "33610 33670\n",
      "60/60 [==============================] - 0s 156us/step\n",
      "60/60 [==============================] - 0s 133us/step\n",
      "16.033205223083495 13.267945766448975\n",
      "60/60 [==============================] - 0s 153us/step\n",
      "60/60 [==============================] - 0s 132us/step\n",
      "6.7311047871907554 13.547906112670898\n",
      "\n",
      " 56\n",
      "42322 42382\n",
      "60/60 [==============================] - 0s 131us/step\n",
      "60/60 [==============================] - 0s 137us/step\n",
      "11.139583396911622 8.187524541219075\n",
      "60/60 [==============================] - 0s 138us/step\n",
      "60/60 [==============================] - 0s 139us/step\n",
      "5.05851084391276 13.223299407958985\n",
      "\n",
      " 57\n",
      "41606 41666\n",
      "60/60 [==============================] - 0s 147us/step\n",
      "60/60 [==============================] - 0s 158us/step\n",
      "71.02712027231853 9.99375089009603\n",
      "60/60 [==============================] - 0s 141us/step\n",
      "60/60 [==============================] - 0s 129us/step\n",
      "5.6878027280171715 10.257105318705241\n",
      "\n",
      " 58\n",
      "41632 41692\n",
      "60/60 [==============================] - 0s 132us/step\n",
      "60/60 [==============================] - 0s 134us/step\n",
      "70.21653451919556 9.159052308400472\n",
      "60/60 [==============================] - 0s 133us/step\n",
      "60/60 [==============================] - 0s 132us/step\n",
      "6.222835032145182 9.37997522354126\n",
      "\n",
      " 59\n",
      "40785 40845\n",
      "60/60 [==============================] - 0s 143us/step\n",
      "60/60 [==============================] - 0s 136us/step\n",
      "18.538783518473306 7.277634620666504\n",
      "60/60 [==============================] - 0s 146us/step\n",
      "60/60 [==============================] - 0s 158us/step\n",
      "6.814388434092204 12.086265627543131\n",
      "\n",
      " 60\n",
      "41078 41138\n",
      "60/60 [==============================] - 0s 169us/step\n",
      "60/60 [==============================] - 0s 146us/step\n",
      "9.780447578430175 10.594186274210612\n",
      "60/60 [==============================] - 0s 146us/step\n",
      "60/60 [==============================] - 0s 151us/step\n",
      "6.481079641977946 16.84479866027832\n",
      "\n",
      " 61\n",
      "38390 38450\n",
      "60/60 [==============================] - 0s 150us/step\n",
      "60/60 [==============================] - 0s 155us/step\n",
      "19.13170598347982 14.408305994669597\n",
      "60/60 [==============================] - 0s 176us/step\n",
      "60/60 [==============================] - 0s 176us/step\n",
      "5.115128866831461 11.830764897664388\n",
      "\n",
      " 62\n",
      "43998 44058\n",
      "60/60 [==============================] - 0s 173us/step\n",
      "60/60 [==============================] - 0s 137us/step\n",
      "15.277475611368816 10.394131406148274\n",
      "60/60 [==============================] - 0s 152us/step\n",
      "60/60 [==============================] - 0s 160us/step\n",
      "4.934810400009155 14.041984939575196\n",
      "\n",
      " 63\n",
      "40626 40686\n",
      "60/60 [==============================] - 0s 165us/step\n",
      "60/60 [==============================] - 0s 163us/step\n",
      "10.924413681030273 8.322911643981934\n",
      "60/60 [==============================] - 0s 152us/step\n",
      "60/60 [==============================] - 0s 147us/step\n",
      "4.901775360107422 14.451860427856445\n",
      "\n",
      " 64\n",
      "38819 38879\n",
      "60/60 [==============================] - 0s 144us/step\n",
      "60/60 [==============================] - 0s 138us/step\n",
      "23.69712117513021 7.512731774648031\n",
      "60/60 [==============================] - 0s 146us/step\n",
      "60/60 [==============================] - 0s 140us/step\n",
      "5.153153737386067 17.676712799072266\n",
      "\n",
      " 65\n",
      "39889 39949\n",
      "60/60 [==============================] - 0s 136us/step\n",
      "60/60 [==============================] - 0s 146us/step\n",
      "11.633363437652587 10.737723350524902\n",
      "60/60 [==============================] - 0s 145us/step\n",
      "60/60 [==============================] - 0s 135us/step\n",
      "6.334980742136637 9.875410143534342\n",
      "\n",
      " 66\n",
      "36591 36651\n",
      "60/60 [==============================] - 0s 137us/step\n",
      "60/60 [==============================] - 0s 130us/step\n",
      "46.34319674173991 25.459635289510093\n",
      "60/60 [==============================] - 0s 144us/step\n",
      "60/60 [==============================] - 0s 145us/step\n",
      "6.162901306152344 12.803936958312988\n",
      "\n",
      " 67\n",
      "36706 36766\n",
      "60/60 [==============================] - 0s 160us/step\n",
      "60/60 [==============================] - 0s 149us/step\n",
      "11.192579778035482 7.118259366353353\n",
      "60/60 [==============================] - 0s 155us/step\n",
      "60/60 [==============================] - 0s 139us/step\n",
      "6.6204537073771155 8.172228876749674\n",
      "\n",
      " 68\n",
      "40464 40524\n",
      "60/60 [==============================] - 0s 140us/step\n",
      "60/60 [==============================] - 0s 142us/step\n",
      "14.096091715494792 7.746137968699137\n",
      "60/60 [==============================] - 0s 136us/step\n",
      "60/60 [==============================] - 0s 141us/step\n",
      "3.9458133856455486 12.74238878885905\n",
      "\n",
      " 69\n",
      "40207 40267\n",
      "60/60 [==============================] - 0s 141us/step\n",
      "60/60 [==============================] - 0s 132us/step\n",
      "12.291779073079427 8.046365992228191\n",
      "60/60 [==============================] - 0s 147us/step\n",
      "60/60 [==============================] - 0s 132us/step\n",
      "5.960625648498535 10.255537668863932\n",
      "\n",
      " 70\n",
      "43785 43845\n",
      "60/60 [==============================] - 0s 140us/step\n",
      "60/60 [==============================] - 0s 137us/step\n",
      "13.704412142435709 10.62201385498047\n",
      "60/60 [==============================] - 0s 165us/step\n",
      "60/60 [==============================] - 0s 140us/step\n",
      "6.149629624684652 21.3402587890625\n",
      "\n",
      " 71\n",
      "38027 38087\n",
      "60/60 [==============================] - 0s 149us/step\n",
      "60/60 [==============================] - 0s 145us/step\n",
      "15.650927670796712 10.662146695454915\n",
      "60/60 [==============================] - 0s 151us/step\n",
      "60/60 [==============================] - 0s 155us/step\n",
      "6.017986138661702 11.867780621846517\n",
      "\n",
      " 72\n",
      "39944 40004\n",
      "60/60 [==============================] - 0s 152us/step\n",
      "60/60 [==============================] - 0s 139us/step\n",
      "11.654305903116862 7.220752779642741\n",
      "60/60 [==============================] - 0s 147us/step\n",
      "60/60 [==============================] - 0s 148us/step\n",
      "4.8119373003641766 11.815003331502279\n",
      "\n",
      " 73\n",
      "40270 40330\n",
      "60/60 [==============================] - 0s 154us/step\n",
      "60/60 [==============================] - 0s 153us/step\n",
      "11.556248792012532 6.3149358113606775\n",
      "60/60 [==============================] - 0s 153us/step\n",
      "60/60 [==============================] - 0s 149us/step\n",
      "5.5771868069966635 16.537294578552245\n",
      "\n",
      " 74\n",
      "38395 38455\n",
      "60/60 [==============================] - 0s 144us/step\n",
      "60/60 [==============================] - 0s 140us/step\n",
      "18.672946421305337 14.413396008809407\n",
      "60/60 [==============================] - 0s 149us/step\n",
      "60/60 [==============================] - 0s 141us/step\n",
      "5.524975045522054 13.670054562886556\n",
      "\n",
      " 75\n",
      "40027 40087\n",
      "60/60 [==============================] - 0s 148us/step\n",
      "60/60 [==============================] - 0s 140us/step\n",
      "12.964984258015951 10.978718026479084\n",
      "60/60 [==============================] - 0s 130us/step\n",
      "60/60 [==============================] - 0s 133us/step\n",
      "5.469404665629069 10.53339335123698\n",
      "\n",
      " 76\n",
      "42436 42496\n",
      "60/60 [==============================] - 0s 143us/step\n",
      "60/60 [==============================] - 0s 147us/step\n",
      "14.89551207224528 25.498882738749185\n",
      "60/60 [==============================] - 0s 149us/step\n",
      "60/60 [==============================] - 0s 143us/step\n",
      "3.483935594558716 13.580525970458984\n",
      "\n",
      " 77\n",
      "37161 37221\n",
      "60/60 [==============================] - 0s 140us/step\n",
      "60/60 [==============================] - 0s 140us/step\n",
      "13.99326368967692 8.375741386413575\n",
      "60/60 [==============================] - 0s 137us/step\n",
      "60/60 [==============================] - 0s 133us/step\n",
      "6.447248268127441 10.79702943166097\n",
      "\n",
      " 78\n",
      "35149 35209\n",
      "60/60 [==============================] - 0s 142us/step\n",
      "60/60 [==============================] - 0s 135us/step\n",
      "15.034434382120768 10.86545950571696\n",
      "60/60 [==============================] - 0s 136us/step\n",
      "60/60 [==============================] - 0s 130us/step\n",
      "6.282221571604411 15.043564414978027\n",
      "\n",
      " 79\n",
      "40230 40290\n",
      "60/60 [==============================] - 0s 137us/step\n",
      "60/60 [==============================] - 0s 130us/step\n",
      "12.167992083231608 8.860586865743\n",
      "60/60 [==============================] - 0s 139us/step\n",
      "60/60 [==============================] - 0s 134us/step\n",
      "5.632686869303385 14.408745956420898\n",
      "\n",
      " 80\n",
      "38660 38720\n",
      "60/60 [==============================] - 0s 147us/step\n",
      "60/60 [==============================] - 0s 125us/step\n",
      "8.397386296590168 6.696495246887207\n",
      "60/60 [==============================] - 0s 139us/step\n",
      "60/60 [==============================] - 0s 129us/step\n",
      "5.612972736358643 10.189382235209147\n",
      "\n",
      " 81\n",
      "40988 41048\n",
      "60/60 [==============================] - 0s 151us/step\n",
      "60/60 [==============================] - 0s 149us/step\n",
      "15.9149600982666 9.32993049621582\n",
      "60/60 [==============================] - 0s 145us/step\n",
      "60/60 [==============================] - 0s 148us/step\n",
      "6.118933359781901 13.877337646484374\n",
      "\n",
      " 82\n",
      "39860 39920\n",
      "60/60 [==============================] - 0s 140us/step\n",
      "60/60 [==============================] - 0s 137us/step\n",
      "14.509536679585775 12.389362970987955\n",
      "60/60 [==============================] - 0s 131us/step\n",
      "60/60 [==============================] - 0s 133us/step\n",
      "5.8807785669962565 13.919734064737955\n",
      "\n",
      " 83\n",
      "39166 39226\n",
      "60/60 [==============================] - 0s 133us/step\n",
      "60/60 [==============================] - 0s 138us/step\n",
      "15.83762976328532 15.33525276184082\n",
      "60/60 [==============================] - 0s 144us/step\n",
      "60/60 [==============================] - 0s 136us/step\n",
      "5.522010723749797 10.414706738789876\n",
      "\n",
      " 84\n",
      "42355 42415\n",
      "60/60 [==============================] - 0s 141us/step\n",
      "60/60 [==============================] - 0s 137us/step\n",
      "11.95356330871582 12.669573211669922\n",
      "60/60 [==============================] - 0s 133us/step\n",
      "60/60 [==============================] - 0s 129us/step\n",
      "5.525133323669434 11.106238301595052\n",
      "\n",
      " 85\n",
      "41510 41570\n",
      "60/60 [==============================] - 0s 136us/step\n",
      "60/60 [==============================] - 0s 134us/step\n",
      "12.755342801411947 8.432573572794597\n",
      "60/60 [==============================] - 0s 137us/step\n",
      "60/60 [==============================] - 0s 133us/step\n",
      "5.324778493245443 13.110205713907877\n",
      "\n",
      " 86\n",
      "43699 43759\n",
      "60/60 [==============================] - 0s 133us/step\n",
      "60/60 [==============================] - 0s 124us/step\n",
      "12.11178035736084 9.234385871887207\n",
      "60/60 [==============================] - 0s 142us/step\n",
      "60/60 [==============================] - 0s 145us/step\n",
      "4.588510831197103 13.822523562113444\n",
      "\n",
      " 87\n",
      "38024 38084\n",
      "60/60 [==============================] - 0s 144us/step\n",
      "60/60 [==============================] - 0s 139us/step\n",
      "15.85478006998698 10.507699457804362\n",
      "60/60 [==============================] - 0s 144us/step\n",
      "60/60 [==============================] - 0s 143us/step\n",
      "5.948749256134033 11.618362744649252\n",
      "\n",
      " 88\n",
      "41222 41282\n",
      "60/60 [==============================] - 0s 143us/step\n",
      "60/60 [==============================] - 0s 145us/step\n",
      "23.504211235046387 6.594031556447347\n",
      "60/60 [==============================] - 0s 138us/step\n",
      "60/60 [==============================] - 0s 137us/step\n",
      "7.143934917449951 14.899184735616048\n",
      "\n",
      " 89\n",
      "37542 37602\n",
      "60/60 [==============================] - 0s 139us/step\n",
      "60/60 [==============================] - 0s 137us/step\n",
      "11.62474765777588 17.043421936035156\n",
      "60/60 [==============================] - 0s 140us/step\n",
      "60/60 [==============================] - 0s 137us/step\n",
      "4.434434604644776 12.479356638590495\n",
      "\n",
      " 90\n",
      "37666 37726\n",
      "60/60 [==============================] - 0s 144us/step\n",
      "60/60 [==============================] - 0s 130us/step\n",
      "10.31720339457194 11.92010990778605\n",
      "60/60 [==============================] - 0s 136us/step\n",
      "60/60 [==============================] - 0s 134us/step\n",
      "5.593568579355876 10.344678624471028\n",
      "\n",
      " 91\n",
      "40476 40536\n",
      "60/60 [==============================] - 0s 160us/step\n",
      "60/60 [==============================] - 0s 148us/step\n",
      "16.446352513631187 8.002476819356282\n",
      "60/60 [==============================] - 0s 141us/step\n",
      "60/60 [==============================] - 0s 133us/step\n",
      "3.9856233755747477 11.509082539876301\n",
      "\n",
      " 92\n",
      "40671 40731\n",
      "60/60 [==============================] - 0s 138us/step\n",
      "60/60 [==============================] - 0s 129us/step\n",
      "17.45851885477702 8.31710205078125\n",
      "60/60 [==============================] - 0s 141us/step\n",
      "60/60 [==============================] - 0s 135us/step\n",
      "5.781664021809896 13.86072858174642\n",
      "\n",
      " 93\n",
      "39183 39243\n",
      "60/60 [==============================] - 0s 131us/step\n",
      "60/60 [==============================] - 0s 133us/step\n",
      "10.247272237141926 11.955863253275554\n",
      "60/60 [==============================] - 0s 155us/step\n",
      "60/60 [==============================] - 0s 143us/step\n",
      "4.212373876571656 11.809528986612955\n",
      "\n",
      " 94\n",
      "40282 40342\n",
      "60/60 [==============================] - 0s 152us/step\n",
      "60/60 [==============================] - 0s 156us/step\n",
      "11.58594970703125 6.296085071563721\n",
      "60/60 [==============================] - 0s 138us/step\n",
      "60/60 [==============================] - 0s 143us/step\n",
      "5.852602895100912 15.185320091247558\n",
      "\n",
      " 95\n",
      "41357 41417\n",
      "60/60 [==============================] - 0s 140us/step\n",
      "60/60 [==============================] - 0s 133us/step\n",
      "26.344371604919434 9.926385339101156\n",
      "60/60 [==============================] - 0s 138us/step\n",
      "60/60 [==============================] - 0s 138us/step\n",
      "4.821180915832519 9.884365145365397\n",
      "\n",
      " 96\n",
      "38368 38428\n",
      "60/60 [==============================] - 0s 133us/step\n",
      "60/60 [==============================] - 0s 123us/step\n",
      "17.778801345825194 12.816620127360027\n",
      "60/60 [==============================] - 0s 136us/step\n",
      "60/60 [==============================] - 0s 127us/step\n",
      "4.564716815948486 11.246204630533855\n",
      "\n",
      " 97\n",
      "39195 39255\n",
      "60/60 [==============================] - 0s 134us/step\n",
      "60/60 [==============================] - 0s 128us/step\n",
      "12.12880662282308 11.72861026128133\n",
      "60/60 [==============================] - 0s 137us/step\n",
      "60/60 [==============================] - 0s 139us/step\n",
      "3.6469906012217206 14.049062474568684\n",
      "\n",
      " 98\n",
      "39524 39584\n",
      "60/60 [==============================] - 0s 145us/step\n",
      "60/60 [==============================] - 0s 132us/step\n",
      "9.377341651916504 5.889502239227295\n",
      "60/60 [==============================] - 0s 129us/step\n",
      "60/60 [==============================] - 0s 125us/step\n",
      "5.985851128896077 11.613779576619466\n",
      "\n",
      " 99\n",
      "42855 42915\n",
      "60/60 [==============================] - 0s 140us/step\n",
      "60/60 [==============================] - 0s 123us/step\n",
      "13.29927921295166 6.832050736745199\n",
      "60/60 [==============================] - 0s 154us/step\n",
      "60/60 [==============================] - 0s 130us/step\n",
      "8.934756533304851 12.093315124511719\n"
     ]
    }
   ],
   "source": [
    "#We take 100 small random samples and collect the perlexity values of both \n",
    "#models\n",
    "\n",
    "for i in range(100):\n",
    "    print(\"\\n\",i)\n",
    "    n = int(random.gauss(40000,2000))\n",
    "    m = n+60\n",
    "    print(n,m)\n",
    "\n",
    "    cat=\"eo\"\n",
    "    #DE - * - EN    eo\n",
    "    en = model_enor.evaluate(X_eo[n:m],y_eo[n:m], verbose=1)[1]\n",
    "    de = model_deor.evaluate(X_eo[n:m],y_eo[n:m], verbose=1)[1]\n",
    "    print(de,en)\n",
    "    english_perplexity[cat] += [round(en,2)]\n",
    "    german_perplexity[cat] += [round(de,2)]\n",
    "\n",
    "    #DE - * - EN   go\n",
    "    cat = \"go\"\n",
    "    en = model_enor.evaluate(X_do[n:m],y_do[n:m], verbose=1)[1]\n",
    "    de = model_deor.evaluate(X_do[n:m],y_do[n:m], verbose=1)[1]\n",
    "    print(de,en)\n",
    "    english_perplexity[cat] += [round(en,2)]\n",
    "    german_perplexity[cat] += [round(de,2)]"
   ]
  },
  {
   "cell_type": "code",
   "execution_count": 158,
   "metadata": {},
   "outputs": [
    {
     "name": "stdout",
     "output_type": "stream",
     "text": [
      "Ttest_indResult(statistic=-5.750587746170389, pvalue=3.329973294587068e-08)\n",
      "Ttest_indResult(statistic=26.87598314016426, pvalue=5.5596669039681185e-68)\n",
      "Ttest_indResult(statistic=-4.225029067596602, pvalue=3.643315082205102e-05)\n",
      "Ttest_indResult(statistic=11.275944122452593, pvalue=4.2422552227635134e-23)\n"
     ]
    },
    {
     "data": {
      "text/plain": [
       "10.606699999999998"
      ]
     },
     "execution_count": 158,
     "metadata": {},
     "output_type": "execute_result"
    }
   ],
   "source": [
    "print(ttest_ind(english_perplexity[\"eo\"],german_perplexity[\"eo\"]))\n",
    "print(ttest_ind(english_perplexity[\"go\"],german_perplexity[\"go\"]))\n",
    "print(ttest_ind(english_perplexity[\"eo\"],english_perplexity[\"go\"]))\n",
    "print(ttest_ind(german_perplexity[\"eo\"],german_perplexity[\"go\"]))\n",
    "np.mean(english_perplexity[\"eo\"])"
   ]
  },
  {
   "cell_type": "code",
   "execution_count": 159,
   "metadata": {},
   "outputs": [
    {
     "name": "stdout",
     "output_type": "stream",
     "text": [
      "Total Sequences: 40703\n",
      "number of lines:  1863\n",
      "Total Sequences: 21150\n",
      "number of lines:  970\n"
     ]
    }
   ],
   "source": [
    "#pts, sts\n",
    "X_ep, y_ep = X_and_Y(datdir+\"croco_for_english_study/PT/*\",one_each=20,\n",
    "                      max_length=30, vocab_size=18, random_shuff=False)\n",
    "X_es, y_es = X_and_Y(datdir+\"croco_for_english_study/ST/*\",one_each=20,\n",
    "                      max_length=30, vocab_size=18, random_shuff=False)"
   ]
  },
  {
   "cell_type": "code",
   "execution_count": null,
   "metadata": {},
   "outputs": [],
   "source": []
  },
  {
   "cell_type": "code",
   "execution_count": 160,
   "metadata": {},
   "outputs": [
    {
     "name": "stdout",
     "output_type": "stream",
     "text": [
      "\n",
      " 0\n",
      "11746 21746\n",
      "11.39688638543535 14.150426312133842\n",
      "14.334057109069825 12.79181651763916\n",
      "\n",
      " 1\n",
      "18838 28838\n",
      "10.555552848895116 14.007746128887455\n",
      "13.613907614135742 12.624878800964355\n",
      "\n",
      " 2\n",
      "5857 15857\n",
      "11.706842205810547 14.638819088745118\n",
      "13.945996008300781 12.617839501190186\n",
      "\n",
      " 3\n",
      "19009 29009\n",
      "10.729384227647563 14.100381970572617\n",
      "13.791051171875 12.614052101135254\n",
      "\n",
      " 4\n",
      "4677 14677\n",
      "11.40791724395752 14.531557318115235\n",
      "14.431183978271484 12.36539340133667\n"
     ]
    }
   ],
   "source": [
    "# Now we do the same for the student/professional group \n",
    "\n",
    "#DE - * - EN    es\n",
    "a,b,c,d= [],[],[],[]\n",
    "for i in range(5):\n",
    "    print(\"\\n\",i)\n",
    "    n = int(random.randint(0,len(X_es)-100))\n",
    "    m = n+10000\n",
    "    print(n,m)\n",
    "    #n,m=10000, 20000 #130000,135784#50000,60000#len(X_es)\n",
    "\n",
    "    cat = \"gst\"\n",
    "    en = model_enor.evaluate(X_es[n:m],y_es[n:m], verbose=0)[1]\n",
    "    de = model_deor.evaluate(X_es[n:m],y_es[n:m], verbose=0)[1]\n",
    "    print(de,en)\n",
    "    english_perplexity[cat] += [round(en,2)]\n",
    "    a+= [round(en,2)]\n",
    "    german_perplexity[cat] += [round(de,2)]\n",
    "    b+= [round(de,2)]\n",
    "    \n",
    "\n",
    "    #n,m=10000,len(X_es)\n",
    "\n",
    "    #DE - * - EN    ep\n",
    "    cat = \"gpr\"\n",
    "    de = model_deor.evaluate(X_ep[n:m],y_ep[n:m], verbose=0)[1]\n",
    "    en = model_enor.evaluate(X_ep[n:m],y_ep[n:m], verbose=0)[1]\n",
    "    print(de,en)\n",
    "    english_perplexity[cat] += [round(en,2)] \n",
    "    c+= [round(en,2)]\n",
    "    german_perplexity[cat] += [round(de,2)]\n",
    "    d+= [round(de,2)]"
   ]
  },
  {
   "cell_type": "code",
   "execution_count": 161,
   "metadata": {},
   "outputs": [
    {
     "name": "stdout",
     "output_type": "stream",
     "text": [
      "En stud 14.285999999999998\n",
      "Ge stud 11.162\n",
      "Eng pro 12.601999999999999\n",
      "Ge pro 14.022\n"
     ]
    }
   ],
   "source": [
    "# men perplexities\n",
    "\n",
    "print(\"En stud\",np.mean(a))\n",
    "print(\"Ge stud\",np.mean(b))\n",
    "print(\"Eng pro\",np.mean(c))\n",
    "print(\"Ge pro\",np.mean(d))"
   ]
  },
  {
   "cell_type": "code",
   "execution_count": 162,
   "metadata": {},
   "outputs": [
    {
     "name": "stdout",
     "output_type": "stream",
     "text": [
      "100\n",
      "100\n"
     ]
    },
    {
     "data": {
      "text/plain": [
       "Ttest_indResult(statistic=2.160915962935742, pvalue=0.03190250410727215)"
      ]
     },
     "execution_count": 162,
     "metadata": {},
     "output_type": "execute_result"
    }
   ],
   "source": [
    "##Is the difference between random samples significant? no (good)\n",
    "\n",
    "\n",
    "from scipy.stats import ttest_ind\n",
    "n=1\n",
    "manypers, manypers2 =[],[]\n",
    "for i in range(n,n+100):\n",
    "    manypers.append(model_deor.evaluate(X_ep[i-1:i],y_ep[i-1:i], verbose=0)[1])\n",
    "print(len(manypers))\n",
    "for i in range(n,n+100):\n",
    "    manypers2.append(model_deor.evaluate(X_es[i-1:i],y_es[i-1:i], verbose=0)[1])\n",
    "print(len(manypers2))\n",
    "\n",
    "ttest_ind(manypers,manypers2) #####la differenza non è significativa!"
   ]
  },
  {
   "cell_type": "code",
   "execution_count": 163,
   "metadata": {},
   "outputs": [
    {
     "name": "stdout",
     "output_type": "stream",
     "text": [
      "Ttest_indResult(statistic=12.340983557077394, pvalue=1.7311886437480258e-06)\n",
      "Ttest_indResult(statistic=-8.338814667400001, pvalue=3.235708340355558e-05)\n",
      "Ttest_indResult(statistic=11.848582653258106, pvalue=2.361562378343359e-06)\n",
      "Ttest_indResult(statistic=-10.594191288033695, pvalue=5.5076418966489805e-06)\n"
     ]
    }
   ],
   "source": [
    "#but is the difference between german and english perplexities significant? yes\n",
    "\n",
    "print(ttest_ind(english_perplexity[\"gst\"],german_perplexity[\"gst\"]))\n",
    "print(ttest_ind(english_perplexity[\"gpr\"],german_perplexity[\"gpr\"]))\n",
    "print(ttest_ind(english_perplexity[\"gst\"],english_perplexity[\"gpr\"]))\n",
    "print(ttest_ind(german_perplexity[\"gst\"],german_perplexity[\"gpr\"]))"
   ]
  },
  {
   "cell_type": "code",
   "execution_count": 165,
   "metadata": {},
   "outputs": [
    {
     "name": "stdout",
     "output_type": "stream",
     "text": [
      "14.285999999999998 12.601999999999999\n"
     ]
    },
    {
     "data": {
      "text/plain": [
       "(11.162, 14.022)"
      ]
     },
     "execution_count": 165,
     "metadata": {},
     "output_type": "execute_result"
    }
   ],
   "source": [
    "print(np.mean(english_perplexity[\"gst\"]),np.mean(english_perplexity[\"gpr\"]))\n",
    "np.mean(german_perplexity[\"gst\"]),np.mean(german_perplexity[\"gpr\"])"
   ]
  },
  {
   "cell_type": "code",
   "execution_count": null,
   "metadata": {},
   "outputs": [],
   "source": []
  },
  {
   "cell_type": "code",
   "execution_count": 171,
   "metadata": {},
   "outputs": [],
   "source": [
    "## Now I will create an entry in both dictionaries per each category\n",
    "setto = \"\"\"FICTION ESSAY POPSCI INSTR SHARE SPEECH TOU\"\"\".split() #sectors\n",
    "\n",
    "for category in setto:\n",
    "    english_perplexity['PT_'+category] = []\n",
    "    german_perplexity['PT_'+category] = []\n",
    "    english_perplexity['ST_'+category] = []\n",
    "    german_perplexity['ST_'+category] = []\n"
   ]
  },
  {
   "cell_type": "code",
   "execution_count": 172,
   "metadata": {},
   "outputs": [
    {
     "name": "stdout",
     "output_type": "stream",
     "text": [
      "FICTION\n",
      "Total Sequences: 36181\n",
      "number of lines:  1773\n",
      "ESSAY\n",
      "Total Sequences: 34343\n",
      "number of lines:  1523\n",
      "POPSCI\n",
      "Total Sequences: 32312\n",
      "number of lines:  1569\n",
      "INSTR\n",
      "Total Sequences: 33594\n",
      "number of lines:  1749\n",
      "SHARE\n",
      "Total Sequences: 35227\n",
      "number of lines:  1584\n",
      "SPEECH\n",
      "Total Sequences: 34760\n",
      "number of lines:  1618\n",
      "TOU\n",
      "Total Sequences: 32604\n",
      "number of lines:  1536\n"
     ]
    },
    {
     "data": {
      "text/plain": [
       "11.915815420847093"
      ]
     },
     "execution_count": 172,
     "metadata": {},
     "output_type": "execute_result"
    }
   ],
   "source": [
    "# professionals per category: 100 small blocks\n",
    "\n",
    "\n",
    "why,why_en =[],[]\n",
    "\n",
    "\n",
    "\n",
    "preadd = datdir+\"croco_for_english_study/PT/*\"\n",
    "for cate in setto:\n",
    "        \n",
    "    manypers, manypers2 =[],[]\n",
    "    print(cate)\n",
    "        #print(len(glob.glob(preadd+cate+\"*\")))\n",
    "    X, y = X_and_Y(preadd+cate+\"*\",old=False,\n",
    "                       max_length=30, vocab_size=18)\n",
    "        \n",
    "    for i in range(200):\n",
    "            #print(\"\\n\",i)\n",
    "            n = int(random.randint(0,len(X)-100))\n",
    "            m = n+90\n",
    "            if m>len(X): m=len(X)-1\n",
    "            #print(\"len X: \", len(X))\n",
    "\n",
    "            #de_ = model_deor.evaluate(X_ep[n:m],y_ep[n:m], verbose=1)[1]\n",
    "            en = model_enor.evaluate(X[n:m],y[n:m], verbose=0)[1]\n",
    "            de = model_deor.evaluate(X[n:m],y[n:m], verbose=0)[1]\n",
    "\n",
    "            #print(de,en)\n",
    "            #if de<en: print(\"                        Good.\")\n",
    "            why+=[de]\n",
    "            why_en+=[en]\n",
    "            key = \"PT_\"+cate\n",
    "            english_perplexity[key] += [round(en,2)]\n",
    "            german_perplexity[key] += [round(de,2)]      \n",
    "            manypers.append(de)\n",
    "            manypers2.append(en)\n",
    "            \n",
    "            #print(ttest_ind(manypers,manypers2))\n",
    "\n",
    "np.mean(why)\n",
    "\n"
   ]
  },
  {
   "cell_type": "code",
   "execution_count": 173,
   "metadata": {},
   "outputs": [
    {
     "data": {
      "text/plain": [
       "200"
      ]
     },
     "execution_count": 173,
     "metadata": {},
     "output_type": "execute_result"
    }
   ],
   "source": [
    "len(german_perplexity[\"PT_FICTION\"])"
   ]
  },
  {
   "cell_type": "code",
   "execution_count": 174,
   "metadata": {},
   "outputs": [
    {
     "name": "stdout",
     "output_type": "stream",
     "text": [
      "PT_FICTION\n",
      "english perplexity:  15.158900000000001\n",
      "german perplexity:  13.342150000000002\n",
      "Ttest_indResult(statistic=7.545182233889614, pvalue=3.101312712310442e-13)\n",
      "PT_ESSAY\n",
      "english perplexity:  11.204299999999998\n",
      "german perplexity:  14.860999999999999\n",
      "Ttest_indResult(statistic=-14.296601185875414, pvalue=1.0351409165098297e-37)\n",
      "PT_POPSCI\n",
      "english perplexity:  10.70685\n",
      "german perplexity:  11.12775\n",
      "Ttest_indResult(statistic=-2.517502467217127, pvalue=0.012210797367084116)\n",
      "PT_INSTR\n",
      "english perplexity:  12.4488\n",
      "german perplexity:  9.033199999999999\n",
      "Ttest_indResult(statistic=19.3111524385878, pvalue=4.169472242225464e-59)\n",
      "PT_SHARE\n",
      "english perplexity:  11.5299\n",
      "german perplexity:  12.89935\n",
      "Ttest_indResult(statistic=-2.996144410991533, pvalue=0.0029052831853655574)\n",
      "PT_SPEECH\n",
      "english perplexity:  14.679200000000002\n",
      "german perplexity:  10.559000000000001\n",
      "Ttest_indResult(statistic=17.58803107242609, pvalue=1.2044655080729268e-51)\n",
      "PT_TOU\n",
      "english perplexity:  13.55515\n",
      "german perplexity:  11.588649999999998\n",
      "Ttest_indResult(statistic=8.241148797791206, pvalue=2.4955203554466956e-15)\n"
     ]
    }
   ],
   "source": [
    "#Is the difference between English and German perplexities on professionals\n",
    "# across categories statistically significant?\n",
    "for cate in setto:\n",
    "    key = \"PT_\"+cate\n",
    "    print(key)\n",
    "    ep, dp = english_perplexity[key],german_perplexity[key]\n",
    "    print(\"english perplexity: \", np.mean(ep))\n",
    "    print(\"german perplexity: \", np.mean(dp))\n",
    "    print(ttest_ind(ep,dp))"
   ]
  },
  {
   "cell_type": "code",
   "execution_count": 175,
   "metadata": {},
   "outputs": [
    {
     "data": {
      "text/plain": [
       "Ttest_indResult(statistic=-8.240451669231447, pvalue=2.5079727089913833e-15)"
      ]
     },
     "execution_count": 175,
     "metadata": {},
     "output_type": "execute_result"
    }
   ],
   "source": [
    "ttest_ind(manypers,manypers2)"
   ]
  },
  {
   "cell_type": "code",
   "execution_count": 176,
   "metadata": {},
   "outputs": [
    {
     "data": {
      "text/plain": [
       "(11.915815420847093, 12.75460232769497)"
      ]
     },
     "execution_count": 176,
     "metadata": {},
     "output_type": "execute_result"
    }
   ],
   "source": [
    "np.mean(why), np.mean(why_en)"
   ]
  },
  {
   "cell_type": "code",
   "execution_count": 177,
   "metadata": {},
   "outputs": [
    {
     "data": {
      "text/plain": [
       "Ttest_indResult(statistic=-6.98933127979155, pvalue=3.4394258284918574e-12)"
      ]
     },
     "execution_count": 177,
     "metadata": {},
     "output_type": "execute_result"
    }
   ],
   "source": [
    "from scipy.stats import ttest_ind\n",
    "ttest_ind(why, why_en)"
   ]
  },
  {
   "cell_type": "code",
   "execution_count": 852,
   "metadata": {},
   "outputs": [],
   "source": []
  },
  {
   "cell_type": "code",
   "execution_count": 178,
   "metadata": {},
   "outputs": [
    {
     "name": "stdout",
     "output_type": "stream",
     "text": [
      "FICTION\n",
      "Total Sequences: 11937\n",
      "number of lines:  736\n",
      "ESSAY\n",
      "Total Sequences: 15333\n",
      "number of lines:  706\n",
      "POPSCI\n",
      "Total Sequences: 22066\n",
      "number of lines:  1008\n",
      "INSTR\n",
      "Total Sequences: 19557\n",
      "number of lines:  966\n",
      "SHARE\n",
      "Total Sequences: 24155\n",
      "number of lines:  1053\n",
      "SPEECH\n",
      "Total Sequences: 23578\n",
      "number of lines:  1084\n",
      "TOU\n",
      "Total Sequences: 19158\n",
      "number of lines:  922\n"
     ]
    }
   ],
   "source": [
    "why,why_en = [],[]\n",
    "\n",
    "setto = \"\"\"FICTION ESSAY POPSCI INSTR SHARE SPEECH TOU\"\"\".split()\n",
    "preadd = datdir+\"croco_for_english_study/ST/*\"\n",
    "for cate in setto:\n",
    "    print(cate)\n",
    "    X, y = X_and_Y(preadd+cate+\"*\",old=False,\n",
    "                   max_length=30, vocab_size=18)\n",
    "    for i in range(100):\n",
    "        #print(\"\\n\",i)\n",
    "        n = int(random.randint(0,len(X)-100))\n",
    "        m = n+80\n",
    "        if m>len(X): m=len(X)-1\n",
    "        #print(n,m)\n",
    "        en = model_enor.evaluate(X[n:m],y[n:m], verbose=0)[1]\n",
    "        de = model_deor.evaluate(X[n:m],y[n:m], verbose=0)[1]\n",
    "        #print(de,en)\n",
    "        #if de<en: print(\"          Good\")\n",
    "        why+=[de]\n",
    "        why_en+=[en]\n",
    "        key = \"ST_\"+cate\n",
    "        english_perplexity[key] += [round(en,2)]\n",
    "        german_perplexity[key] += [round(de,2)] "
   ]
  },
  {
   "cell_type": "code",
   "execution_count": 179,
   "metadata": {},
   "outputs": [
    {
     "data": {
      "text/plain": [
       "100"
      ]
     },
     "execution_count": 179,
     "metadata": {},
     "output_type": "execute_result"
    }
   ],
   "source": [
    "len(german_perplexity[\"ST_FICTION\"])"
   ]
  },
  {
   "cell_type": "code",
   "execution_count": 180,
   "metadata": {},
   "outputs": [
    {
     "name": "stdout",
     "output_type": "stream",
     "text": [
      "14.285999999999998 12.601999999999999\n"
     ]
    },
    {
     "data": {
      "text/plain": [
       "(11.162, 14.022)"
      ]
     },
     "execution_count": 180,
     "metadata": {},
     "output_type": "execute_result"
    }
   ],
   "source": [
    "print(np.mean(english_perplexity[\"gst\"]),np.mean(english_perplexity[\"gpr\"]))\n",
    "np.mean(german_perplexity[\"gst\"]),np.mean(german_perplexity[\"gpr\"]) #.keys()"
   ]
  },
  {
   "cell_type": "code",
   "execution_count": 182,
   "metadata": {},
   "outputs": [
    {
     "name": "stdout",
     "output_type": "stream",
     "text": [
      "ST_FICTION\n",
      "100 100\n",
      "english perplexity:  16.875500000000002\n",
      "german perplexity:  12.863900000000001\n",
      "Ttest_indResult(statistic=11.041217277002147, pvalue=2.1448692189077695e-22)\n",
      "ST_ESSAY\n",
      "100 100\n",
      "english perplexity:  15.1301\n",
      "german perplexity:  11.330499999999999\n",
      "Ttest_indResult(statistic=11.14128000209237, pvalue=1.0758680049525515e-22)\n",
      "ST_POPSCI\n",
      "100 100\n",
      "english perplexity:  14.861799999999999\n",
      "german perplexity:  10.418399999999998\n",
      "Ttest_indResult(statistic=15.858221550380085, pvalue=4.252945305351019e-37)\n",
      "ST_INSTR\n",
      "100 100\n",
      "english perplexity:  13.2328\n",
      "german perplexity:  8.4016\n",
      "Ttest_indResult(statistic=16.729531710319247, pvalue=9.665999827869676e-40)\n",
      "ST_SHARE\n",
      "100 100\n",
      "english perplexity:  13.812500000000002\n",
      "german perplexity:  9.842400000000001\n",
      "Ttest_indResult(statistic=14.104411982597007, pvalue=9.945414667513992e-32)\n",
      "ST_SPEECH\n",
      "100 100\n",
      "english perplexity:  15.459400000000002\n",
      "german perplexity:  11.211999999999998\n",
      "Ttest_indResult(statistic=12.560954895499655, pvalue=5.371746456636772e-27)\n",
      "ST_TOU\n",
      "100 100\n",
      "english perplexity:  12.943900000000003\n",
      "german perplexity:  11.480199999999998\n",
      "Ttest_indResult(statistic=4.971490403297855, pvalue=1.4355813864956825e-06)\n"
     ]
    }
   ],
   "source": [
    "##Is the difference between English and German perplexities on students\n",
    "# across categories statistically significant?\n",
    "for cate in setto:\n",
    "    key = \"\\nST_\"+cate\n",
    "    print(key)\n",
    "    ep, dp = english_perplexity[key],german_perplexity[key]\n",
    "    print(len(ep), len(dp))\n",
    "    print(\"english perplexity: \", np.mean(ep))\n",
    "    print(\"german perplexity: \", np.mean(dp))\n",
    "    print(ttest_ind(ep,dp))"
   ]
  },
  {
   "cell_type": "code",
   "execution_count": null,
   "metadata": {},
   "outputs": [],
   "source": []
  },
  {
   "cell_type": "code",
   "execution_count": 183,
   "metadata": {},
   "outputs": [
    {
     "name": "stdout",
     "output_type": "stream",
     "text": [
      "German\n",
      "\n",
      "FICTION\n",
      "100 200\n",
      "student perplexity:  12.863900000000001\n",
      "professional perplexity:  13.342150000000002\n",
      "Ttest_indResult(statistic=-1.4756755117207003, pvalue=0.14108682868916414)\n",
      "ESSAY\n",
      "100 200\n",
      "student perplexity:  11.330499999999999\n",
      "professional perplexity:  14.860999999999999\n",
      "Ttest_indResult(statistic=-11.517780503902697, pvalue=1.2281730383353212e-25)\n",
      "POPSCI\n",
      "100 200\n",
      "student perplexity:  10.418399999999998\n",
      "professional perplexity:  11.12775\n",
      "Ttest_indResult(statistic=-3.519992928860906, pvalue=0.0004989976510605326)\n",
      "INSTR\n",
      "100 200\n",
      "student perplexity:  8.4016\n",
      "professional perplexity:  9.033199999999999\n",
      "Ttest_indResult(statistic=-2.9927132746070444, pvalue=0.00299645999274438)\n",
      "SHARE\n",
      "100 200\n",
      "student perplexity:  9.842400000000001\n",
      "professional perplexity:  12.89935\n",
      "Ttest_indResult(statistic=-4.757215652337574, pvalue=3.0631545543807056e-06)\n",
      "SPEECH\n",
      "100 200\n",
      "student perplexity:  11.211999999999998\n",
      "professional perplexity:  10.559000000000001\n",
      "Ttest_indResult(statistic=2.7042538651220642, pvalue=0.007239306668933337)\n",
      "TOU\n",
      "100 200\n",
      "student perplexity:  11.480199999999998\n",
      "professional perplexity:  11.588649999999998\n",
      "Ttest_indResult(statistic=-0.3932901796665708, pvalue=0.6943863880919392)\n"
     ]
    }
   ],
   "source": [
    "## Is the difference between student and professional perplexities \n",
    "# for the German model across categories statistically significant?\n",
    "print(\"German\\n\")\n",
    "total_pp, total_sp=[],[]\n",
    "for cate in setto:\n",
    "    keys, keyp = \"ST_\"+cate, \"PT_\"+cate\n",
    "    print(\"\\n\"+cate)\n",
    "    sp, pp = german_perplexity[keys],german_perplexity[keyp]\n",
    "    print(len(sp), len(pp))\n",
    "    print(\"student perplexity: \", np.mean(sp))\n",
    "    print(\"professional perplexity: \", np.mean(pp))\n",
    "    print(ttest_ind(sp,pp))\n",
    "    #total_pp.append(np.mean(pp)), total_sp.append(np.mean(sp))\n",
    "    total_pp+=pp\n",
    "    total_sp+=sp\n"
   ]
  },
  {
   "cell_type": "code",
   "execution_count": null,
   "metadata": {},
   "outputs": [],
   "source": []
  },
  {
   "cell_type": "code",
   "execution_count": 184,
   "metadata": {},
   "outputs": [
    {
     "name": "stdout",
     "output_type": "stream",
     "text": [
      "10.792714285714284 11.91587142857143\n",
      "Ttest_indResult(statistic=-7.454269333931726, pvalue=1.3142010627527974e-13)\n"
     ]
    }
   ],
   "source": [
    "\n",
    "print(np.mean(total_sp), np.mean(total_pp))\n",
    "print(ttest_ind(total_sp, total_pp))"
   ]
  },
  {
   "cell_type": "code",
   "execution_count": 185,
   "metadata": {},
   "outputs": [
    {
     "name": "stdout",
     "output_type": "stream",
     "text": [
      "English\n",
      "\n",
      "FICTION\n",
      "100 200\n",
      "student perplexity:  16.875500000000002\n",
      "professional perplexity:  15.158900000000001\n",
      "Ttest_indResult(statistic=6.1903654830417425, pvalue=1.983664222079076e-09)\n",
      "ESSAY\n",
      "100 200\n",
      "student perplexity:  15.1301\n",
      "professional perplexity:  11.204299999999998\n",
      "Ttest_indResult(statistic=12.732931628003922, pvalue=5.994086527458901e-30)\n",
      "POPSCI\n",
      "100 200\n",
      "student perplexity:  14.861799999999999\n",
      "professional perplexity:  10.70685\n",
      "Ttest_indResult(statistic=17.7960501970534, pvalue=9.007226995356789e-49)\n",
      "INSTR\n",
      "100 200\n",
      "student perplexity:  13.2328\n",
      "professional perplexity:  12.4488\n",
      "Ttest_indResult(statistic=3.208974478153558, pvalue=0.0014773354643597691)\n",
      "SHARE\n",
      "100 200\n",
      "student perplexity:  13.812500000000002\n",
      "professional perplexity:  11.5299\n",
      "Ttest_indResult(statistic=10.750018623698313, pvalue=5.385197371402485e-23)\n",
      "SPEECH\n",
      "100 200\n",
      "student perplexity:  15.459400000000002\n",
      "professional perplexity:  14.679200000000002\n",
      "Ttest_indResult(statistic=2.367383447814641, pvalue=0.018553052568468897)\n",
      "TOU\n",
      "100 200\n",
      "student perplexity:  12.943900000000003\n",
      "professional perplexity:  13.55515\n",
      "Ttest_indResult(statistic=-2.1447089483908157, pvalue=0.032784546073289525)\n"
     ]
    }
   ],
   "source": [
    "## Is the difference between student and professional perplexities \n",
    "# for the English model across categories statistically significant?\n",
    "\n",
    "print(\"English\\n\")\n",
    "total_pp, total_sp=[],[]\n",
    "for cate in setto:\n",
    "    keys, keyp = \"ST_\"+cate, \"PT_\"+cate\n",
    "    print(\"\\n\"+cate)\n",
    "    sp, pp = english_perplexity[keys],english_perplexity[keyp]\n",
    "    print(len(sp), len(pp))\n",
    "    print(\"student perplexity: \", np.mean(sp))\n",
    "    print(\"professional perplexity: \", np.mean(pp))\n",
    "    print(ttest_ind(sp,pp))\n",
    "    total_pp.append(np.mean(pp)), total_sp.append(np.mean(sp))\n"
   ]
  },
  {
   "cell_type": "code",
   "execution_count": 186,
   "metadata": {},
   "outputs": [
    {
     "name": "stdout",
     "output_type": "stream",
     "text": [
      "14.61657142857143 12.75472857142857\n",
      "Ttest_indResult(statistic=2.209901533924443, pvalue=0.04728878409430683)\n"
     ]
    }
   ],
   "source": [
    "#np.mean(english_perplexity[\"gst\"]),np.mean(english_perplexity[\"gpr\"]) #.keys()\n",
    "print(np.mean(total_sp), np.mean(total_pp))\n",
    "print(ttest_ind(total_sp, total_pp))"
   ]
  },
  {
   "cell_type": "code",
   "execution_count": null,
   "metadata": {},
   "outputs": [],
   "source": []
  },
  {
   "cell_type": "code",
   "execution_count": null,
   "metadata": {},
   "outputs": [],
   "source": []
  },
  {
   "cell_type": "code",
   "execution_count": 187,
   "metadata": {},
   "outputs": [],
   "source": [
    "import pandas as pd\n",
    "\n",
    "different = {\"EnglishModel\":[], \"GermanModel\":[]}\n",
    "for k in english_perplexity:\n",
    "    mean = np.mean(english_perplexity[k])\n",
    "    different[\"EnglishModel\"].append(round(mean,2))\n",
    "for k in german_perplexity:\n",
    "    mean=np.mean(german_perplexity[k])\n",
    "    different[\"GermanModel\"].append(round(mean,2))"
   ]
  },
  {
   "cell_type": "code",
   "execution_count": null,
   "metadata": {},
   "outputs": [],
   "source": []
  },
  {
   "cell_type": "code",
   "execution_count": 188,
   "metadata": {},
   "outputs": [],
   "source": [
    "#different "
   ]
  },
  {
   "cell_type": "code",
   "execution_count": 189,
   "metadata": {
    "jupyter": {
     "source_hidden": true
    }
   },
   "outputs": [],
   "source": [
    "different = {'EnglishModel': [8.88,\n",
    "  11.12,\n",
    "  12.51,\n",
    "  11.36,\n",
    "  13.55,\n",
    "  10.52,\n",
    "  9.82,\n",
    "  11.11,\n",
    "  11.47,\n",
    "  12.79,\n",
    "  12.41,\n",
    "  14.7,\n",
    "  13.06,\n",
    "  13.02,\n",
    "  11.08,\n",
    "  12.48,\n",
    "  13.95,\n",
    "  11.97],\n",
    " 'GermanModel': [15.08,\n",
    "  5.93,\n",
    "  11.12,\n",
    "  14.39,\n",
    "  12.74,\n",
    "  13.73,\n",
    "  10.5,\n",
    "  9.63,\n",
    "  13.23,\n",
    "  9.83,\n",
    "  12.34,\n",
    "  11.41,\n",
    "  10.54,\n",
    "  10.2,\n",
    "  8.59,\n",
    "  12.65,\n",
    "  10.08,\n",
    "  10.22]}"
   ]
  },
  {
   "cell_type": "code",
   "execution_count": 190,
   "metadata": {},
   "outputs": [
    {
     "name": "stdout",
     "output_type": "stream",
     "text": [
      "['eo', 'go', 'gst', 'gpr', 'PT_FICTION', 'PT_ESSAY', 'PT_POPSCI', 'PT_INSTR', 'PT_SHARE', 'PT_SPEECH', 'PT_TOU', 'ST_FICTION', 'ST_ESSAY', 'ST_POPSCI', 'ST_INSTR', 'ST_SHARE', 'ST_SPEECH', 'ST_TOU']\n"
     ]
    }
   ],
   "source": [
    "setto = \"\"\"FICTION ESSAY POPSCI INSTR SHARE SPEECH TOU\"\"\".split()\n",
    "\n",
    "settoa, settob = [\"PT_\"+s for s in setto], [\"ST_\"+s for s in setto]\n",
    "to_index = \"eo go gst gpr\".split()+ settoa+settob\n",
    "\n",
    "print(to_index)"
   ]
  },
  {
   "cell_type": "code",
   "execution_count": 191,
   "metadata": {},
   "outputs": [],
   "source": []
  },
  {
   "cell_type": "code",
   "execution_count": 192,
   "metadata": {},
   "outputs": [
    {
     "name": "stdout",
     "output_type": "stream",
     "text": [
      "\\begin{tabular}{lrr}\n",
      "\\toprule\n",
      "{} &  EnglishModel &  GermanModel \\\\\n",
      "\\midrule\n",
      "eo         &          8.88 &        15.08 \\\\\n",
      "go         &         11.12 &         5.93 \\\\\n",
      "gst        &         12.51 &        11.12 \\\\\n",
      "gpr        &         11.36 &        14.39 \\\\\n",
      "PT\\_FICTION &         13.55 &        12.74 \\\\\n",
      "PT\\_ESSAY   &         10.52 &        13.73 \\\\\n",
      "PT\\_POPSCI  &          9.82 &        10.50 \\\\\n",
      "PT\\_INSTR   &         11.11 &         9.63 \\\\\n",
      "PT\\_SHARE   &         11.47 &        13.23 \\\\\n",
      "PT\\_SPEECH  &         12.79 &         9.83 \\\\\n",
      "PT\\_TOU     &         12.41 &        12.34 \\\\\n",
      "ST\\_FICTION &         14.70 &        11.41 \\\\\n",
      "ST\\_ESSAY   &         13.06 &        10.54 \\\\\n",
      "ST\\_POPSCI  &         13.02 &        10.20 \\\\\n",
      "ST\\_INSTR   &         11.08 &         8.59 \\\\\n",
      "ST\\_SHARE   &         12.48 &        12.65 \\\\\n",
      "ST\\_SPEECH  &         13.95 &        10.08 \\\\\n",
      "ST\\_TOU     &         11.97 &        10.22 \\\\\n",
      "\\bottomrule\n",
      "\\end{tabular}\n",
      "\n"
     ]
    }
   ],
   "source": [
    "# Making a Latex Table out of it\n",
    "import pandas as pd\n",
    "\n",
    "C = pd.Index(to_index)\n",
    "\n",
    "diff = pd.DataFrame(different, index=C)\n",
    "\n",
    "print(diff.to_latex())"
   ]
  },
  {
   "cell_type": "code",
   "execution_count": 194,
   "metadata": {},
   "outputs": [
    {
     "name": "stdout",
     "output_type": "stream",
     "text": [
      "7 7\n",
      "[('FICTION', 12.86), ('ESSAY', 11.33), ('POPSCI', 10.42), ('INSTR', 8.4), ('SHARE', 9.84), ('SPEECH', 11.21), ('TOU', 11.48)]\n"
     ]
    }
   ],
   "source": [
    "#A table with Stus vs Pros on the columns, and genres on the lines. \n",
    "pts, sts = [],[]\n",
    "\n",
    "source_diz = german_perplexity\n",
    "\n",
    "for k in source_diz:\n",
    "    if \"PT\" in k: \n",
    "        newk = k.split(\"_\")[1]\n",
    "        mean = round(np.mean(source_diz[k]),2)\n",
    "        pts.append((newk,mean))\n",
    "    elif \"ST\" in k: \n",
    "        newk = k.split(\"_\")[1]\n",
    "        mean = round(np.mean(source_diz[k]),2)\n",
    "        sts.append((newk, mean))\n",
    "        \n",
    "print(len(pts), len(sts))\n",
    "    \n",
    "print(sts)\n",
    "pts.sort()\n",
    "sts.sort()\n",
    "\n",
    "#print(pts), print(sts)\n",
    "\n",
    "finaldiz = {\"Students\": [e[1] for e in sts],\n",
    "           \"Professionals\": [e[1] for e in pts]}\n",
    "\n",
    "C = pd.Index([e[0] for e in pts]) \n",
    "\n",
    "magic_de = pd.DataFrame(data=finaldiz, index=C)"
   ]
  },
  {
   "cell_type": "code",
   "execution_count": 196,
   "metadata": {},
   "outputs": [
    {
     "name": "stdout",
     "output_type": "stream",
     "text": [
      "\\begin{tabular}{lrr}\n",
      "\\toprule\n",
      "{} &  Students &  Professionals \\\\\n",
      "\\midrule\n",
      "ESSAY   &     11.33 &          14.86 \\\\\n",
      "FICTION &     12.86 &          13.34 \\\\\n",
      "INSTR   &      8.40 &           9.03 \\\\\n",
      "POPSCI  &     10.42 &          11.13 \\\\\n",
      "SHARE   &      9.84 &          12.90 \\\\\n",
      "SPEECH  &     11.21 &          10.56 \\\\\n",
      "TOU     &     11.48 &          11.59 \\\\\n",
      "\\bottomrule\n",
      "\\end{tabular}\n",
      "\n"
     ]
    }
   ],
   "source": [
    "print(magic_de.to_latex())"
   ]
  },
  {
   "cell_type": "code",
   "execution_count": null,
   "metadata": {},
   "outputs": [],
   "source": []
  },
  {
   "cell_type": "code",
   "execution_count": 204,
   "metadata": {},
   "outputs": [
    {
     "data": {
      "text/plain": [
       "<Figure size 432x288 with 0 Axes>"
      ]
     },
     "metadata": {},
     "output_type": "display_data"
    },
    {
     "data": {
      "image/png": "[encoded data removed]",
      "text/plain": [
       "<Figure size 576x360 with 1 Axes>"
      ]
     },
     "metadata": {
      "needs_background": "light"
     },
     "output_type": "display_data"
    }
   ],
   "source": [
    "## Finally, we can plot them out!\n",
    "\n",
    "from matplotlib import pyplot as plt\n",
    "plt.figure()\n",
    "c_,s_ = [],[]\n",
    "for e in diff.iterrows(): \n",
    "    focus = e[0]\n",
    "    if \"eo\" in focus: \n",
    "        c_.append(\"blue\")\n",
    "        s_.append(30)\n",
    "    elif \"go\" in focus: \n",
    "        c_.append(\"orange\")\n",
    "        s_.append(30)\n",
    "    elif \"PT_\" in focus: \n",
    "        c_.append(\"red\")\n",
    "        s_.append(11)\n",
    "    elif \"ST_\" in focus: \n",
    "        c_.append(\"green\")\n",
    "        s_.append(12)\n",
    "    else: \n",
    "        c_.append(\"white\")\n",
    "        s_.append(1)\n",
    "    \n",
    "    \n",
    "fig, ax = plt.subplots()\n",
    "\n",
    "diff.plot(kind=\"scatter\", x=\"GermanModel\", y=\"EnglishModel\", s=s_,\n",
    "     legend=True, c=c_, title=\"\", ax=ax,figsize=(8,5))\n",
    "\n",
    "for line in diff.iterrows():\n",
    "    #xy=(line)\n",
    "    k=line[0]\n",
    "    x=line[1][0]\n",
    "    y=line[1][1]\n",
    "    xy=(y,x)\n",
    "    k=k.lower()\n",
    "    if k==\"go\": k=\"German_O\"\n",
    "    if k==\"eo\": k=\"English_O\"\n",
    "    if k!=\"gpr\":\n",
    "        ax.annotate(k, xy)\n",
    "    #print(\"\\n\")\n",
    "    \n",
    "#plt.savefig(\"ptVst.png\")"
   ]
  },
  {
   "cell_type": "code",
   "execution_count": null,
   "metadata": {},
   "outputs": [],
   "source": []
  },
  {
   "cell_type": "code",
   "execution_count": 205,
   "metadata": {},
   "outputs": [
    {
     "data": {
      "image/png": "[encoded data removed]",
      "text/plain": [
       "<Figure size 432x288 with 1 Axes>"
      ]
     },
     "metadata": {
      "needs_background": "light"
     },
     "output_type": "display_data"
    },
    {
     "data": {
      "image/png": "[encoded data removed]",
      "text/plain": [
       "<Figure size 432x288 with 1 Axes>"
      ]
     },
     "metadata": {
      "needs_background": "light"
     },
     "output_type": "display_data"
    },
    {
     "data": {
      "image/png": "[encoded data removed]",
      "text/plain": [
       "<Figure size 432x288 with 1 Axes>"
      ]
     },
     "metadata": {
      "needs_background": "light"
     },
     "output_type": "display_data"
    },
    {
     "data": {
      "image/png": "[encoded data removed]",
      "text/plain": [
       "<Figure size 432x288 with 1 Axes>"
      ]
     },
     "metadata": {
      "needs_background": "light"
     },
     "output_type": "display_data"
    },
    {
     "data": {
      "image/png": "[encoded data removed]",
      "text/plain": [
       "<Figure size 432x288 with 1 Axes>"
      ]
     },
     "metadata": {
      "needs_background": "light"
     },
     "output_type": "display_data"
    },
    {
     "data": {
      "image/png": "[encoded data removed]",
      "text/plain": [
       "<Figure size 432x288 with 1 Axes>"
      ]
     },
     "metadata": {
      "needs_background": "light"
     },
     "output_type": "display_data"
    },
    {
     "data": {
      "image/png": "[encoded data removed]",
      "text/plain": [
       "<Figure size 432x288 with 1 Axes>"
      ]
     },
     "metadata": {
      "needs_background": "light"
     },
     "output_type": "display_data"
    }
   ],
   "source": [
    "#And we could plot them by category, if we wanted to.\n",
    "\n",
    "for se in setto:\n",
    "    #print(se)\n",
    "    c_,s_ = [],[]\n",
    "    for e in diff.iterrows(): \n",
    "        focus = e[0]\n",
    "        if \"eo\" in focus: \n",
    "            c_.append(\"blue\")\n",
    "            s_.append(30)\n",
    "        elif \"go\" in focus: \n",
    "            c_.append(\"orange\")\n",
    "            s_.append(30)\n",
    "        elif \"PT_\"+se in focus: \n",
    "            c_.append(\"red\")\n",
    "            s_.append(11)\n",
    "        elif \"ST_\"+se in focus: \n",
    "            c_.append(\"green\")\n",
    "            s_.append(12)\n",
    "        else: \n",
    "            c_.append(\"white\")\n",
    "            s_.append(1)\n",
    "    \n",
    "    \n",
    "    diff.plot(kind=\"scatter\", x=\"GermanModel\", y=\"EnglishModel\", s=s_,\n",
    "     legend=True, c=c_, title=se)"
   ]
  },
  {
   "cell_type": "code",
   "execution_count": null,
   "metadata": {},
   "outputs": [],
   "source": []
  },
  {
   "cell_type": "code",
   "execution_count": 207,
   "metadata": {},
   "outputs": [
    {
     "data": {
      "text/plain": [
       "<matplotlib.axes._subplots.AxesSubplot at 0xb310f8b70>"
      ]
     },
     "execution_count": 207,
     "metadata": {},
     "output_type": "execute_result"
    },
    {
     "data": {
      "image/png": "[encoded data removed]",
      "text/plain": [
       "<Figure size 432x288 with 1 Axes>"
      ]
     },
     "metadata": {
      "needs_background": "light"
     },
     "output_type": "display_data"
    }
   ],
   "source": [
    "# Another neat way of plotting the German model's surprisal\n",
    "magic_de.plot(kind='bar')"
   ]
  },
  {
   "cell_type": "code",
   "execution_count": 377,
   "metadata": {},
   "outputs": [
    {
     "data": {
      "text/plain": [
       "{'FICTION': 33.24359173292073,\n",
       " 'ESSAY': 15.457289352895087,\n",
       " 'POPSCI': 11.710792695075131,\n",
       " 'INSTR': 8.957912740564211,\n",
       " 'SHARE': 18.00766129516081,\n",
       " 'SPEECH': 14.62456521016365,\n",
       " 'TOU': 20.57161489776943}"
      ]
     },
     "execution_count": 377,
     "metadata": {},
     "output_type": "execute_result"
    }
   ],
   "source": [
    "professional_perplexity\n"
   ]
  },
  {
   "cell_type": "markdown",
   "metadata": {},
   "source": [
    "# Second part of the research: ngram analysis"
   ]
  },
  {
   "cell_type": "code",
   "execution_count": 221,
   "metadata": {},
   "outputs": [
    {
     "name": "stdout",
     "output_type": "stream",
     "text": [
      "\n",
      "FICTION\n",
      "[('NN', 1850), ('PPER', 1038), ('ART', 950)]\n",
      "[(('ART', 'NN'), 658), (('ADJA', 'NN'), 427), (('APPR', 'ART'), 300)]\n",
      "[('NN', 1748), ('$,', 1009), ('PPER', 882)]\n",
      "[(('ART', 'NN'), 553), (('ADJA', 'NN'), 407), (('NN', '$,'), 291)]\n",
      "\n",
      "ESSAY\n",
      "[('NN', 3433), ('ART', 1871), ('ADJA', 1247)]\n",
      "[(('ART', 'NN'), 1122), (('ADJA', 'NN'), 1045), (('NN', 'APPR'), 626)]\n",
      "[('NN', 3892), ('ART', 1878), ('ADJA', 1315)]\n",
      "[(('ART', 'NN'), 1162), (('ADJA', 'NN'), 1095), (('ART', 'ADJA'), 597)]\n",
      "\n",
      "POPSCI\n",
      "[('NN', 5244), ('ART', 2605), ('APPR', 1926)]\n",
      "[(('ART', 'NN'), 1829), (('ADJA', 'NN'), 1283), (('NN', 'APPR'), 948)]\n",
      "[('NN', 4634), ('ART', 1913), ('ADJA', 1422)]\n",
      "[(('ART', 'NN'), 1291), (('ADJA', 'NN'), 1211), (('NN', 'VVFIN'), 544)]\n",
      "\n",
      "INSTR\n",
      "[('NN', 4516), ('ART', 2270), ('APPR', 1437)]\n",
      "[(('ART', 'NN'), 1765), (('ADJA', 'NN'), 834), (('APPR', 'ART'), 754)]\n",
      "[('NN', 5367), ('ART', 2269), ('APPR', 1406)]\n",
      "[(('ART', 'NN'), 1700), (('ADJA', 'NN'), 975), (('NN', 'APPR'), 665)]\n",
      "\n",
      "SHARE\n",
      "[('NN', 5758), ('ART', 2292), ('APPR', 2287)]\n",
      "[(('ART', 'NN'), 1479), (('ADJA', 'NN'), 1412), (('NN', 'APPR'), 1215)]\n",
      "[('NN', 6105), ('ART', 2227), ('APPR', 1865)]\n",
      "[(('ADJA', 'NN'), 1479), (('ART', 'NN'), 1384), (('NN', 'APPR'), 948)]\n",
      "\n",
      "SPEECH\n",
      "[('NN', 5139), ('ART', 2598), ('APPR', 1909)]\n",
      "[(('ART', 'NN'), 1648), (('ADJA', 'NN'), 1307), (('NN', 'APPR'), 967)]\n",
      "[('NN', 5741), ('ART', 2631), ('ADJA', 1721)]\n",
      "[(('ART', 'NN'), 1683), (('ADJA', 'NN'), 1435), (('NN', 'APPR'), 881)]\n",
      "\n",
      "TOU\n",
      "[('NN', 4899), ('ART', 2214), ('APPR', 1753)]\n",
      "[(('ART', 'NN'), 1337), (('ADJA', 'NN'), 1309), (('NN', 'APPR'), 809)]\n",
      "[('NN', 4587), ('ART', 1860), ('ADJA', 1422)]\n",
      "[(('ADJA', 'NN'), 1206), (('ART', 'NN'), 1078), (('ART', 'ADJA'), 609)]\n"
     ]
    }
   ],
   "source": [
    "#stats on POS_ for each register, what are the most frequent trigrams?\n",
    "\n",
    "categories = \"\"\"FICTION ESSAY POPSCI INSTR SHARE SPEECH TOU\"\"\".split() \n",
    "\n",
    "import nltk\n",
    "student_frequency = {}\n",
    "professional_frequency = {}\n",
    "\n",
    "student_bigram_frequency, professional_bigram_frequency = {},{}\n",
    "\n",
    "for cat in categories:\n",
    "    print(\"\\n\"+cat)\n",
    "    names = glob.glob(datdir+\"vartra/pos-repres/*CAT_\"+cat+\"*.txt\")\n",
    "    text = \"\"\"\"\"\"\n",
    "    for n in names:\n",
    "        prv = open(n).read()\n",
    "        text+=prv\n",
    "    then = text.split()\n",
    "    fre = nltk.FreqDist(then)\n",
    "    print(fre.most_common(n=3))\n",
    "    student_frequency[cat] = fre\n",
    "    \n",
    "    bigram = nltk.bigrams(then)\n",
    "    bi_fre = nltk.FreqDist(bigram)\n",
    "    print(bi_fre.most_common(3))\n",
    "    student_bigram_frequency[cat] = bi_fre\n",
    "    \n",
    "    names = glob.glob(datdir+\"vartra/pos-repres/*PT_\"+cat+\"*.txt\")\n",
    "    text = \"\"\"\"\"\"\n",
    "    for n in names:\n",
    "        prv = open(n).read()\n",
    "        text+=prv\n",
    "    then = text.split()\n",
    "    fre = nltk.FreqDist(then)\n",
    "    print(fre.most_common(3))\n",
    "    professional_frequency[cat] = fre\n",
    "          \n",
    "    bigram = nltk.bigrams(then)\n",
    "    bi_fre = nltk.FreqDist(bigram)\n",
    "    print(bi_fre.most_common(3))\n",
    "    professional_bigram_frequency[cat] = bi_fre\n",
    "    \n",
    "    "
   ]
  },
  {
   "cell_type": "code",
   "execution_count": 222,
   "metadata": {},
   "outputs": [
    {
     "name": "stdout",
     "output_type": "stream",
     "text": [
      "\n",
      "FICTION\n",
      "stus\n",
      "25475.0 103.96950814406905\n",
      "pros\n",
      "22025.666666666668 132.5070220649114\n",
      "\n",
      "\n",
      "\n",
      "ESSAY\n",
      "stus\n",
      "8987.0 154.78850476502473\n",
      "pros\n",
      "8859.0 158.15172484864982\n",
      "\n",
      "\n",
      "\n",
      "POPSCI\n",
      "stus\n",
      "27101.833333333332 158.98059944932578\n",
      "pros\n",
      "23690.166666666668 138.25161217321065\n",
      "\n",
      "\n",
      "\n",
      "INSTR\n",
      "stus\n",
      "23150.166666666668 119.19018552755695\n",
      "pros\n",
      "24228.0 118.42544959206636\n",
      "\n",
      "\n",
      "\n",
      "SHARE\n",
      "stus\n",
      "22238.125 166.44901675728957\n",
      "pros\n",
      "22048.25 171.30545070801008\n",
      "\n",
      "\n",
      "\n",
      "SPEECH\n",
      "stus\n",
      "17389.3 142.48839832433345\n",
      "pros\n",
      "16859.7 140.33255861226672\n",
      "\n",
      "\n",
      "\n",
      "TOU\n",
      "stus\n",
      "22526.166666666668 142.90706967258754\n",
      "pros\n",
      "19794.0 146.96837182656134\n",
      "\n",
      "\n"
     ]
    }
   ],
   "source": [
    "## Mean document and sentence length in characters\n",
    "\n",
    "student_senlen, professional_senlen = [],[]\n",
    "\n",
    "for cat in categories:\n",
    "    print(\"\\n\"+cat)\n",
    "    print(\"stus\")\n",
    "    names = glob.glob(datdir+\"vartra/sent-repres/*CAT_\"+cat+\"*.vrt\")\n",
    "    text = \"\"\"\"\"\"\n",
    "    doc_len, sen_len = [],[]\n",
    "    for n in names:\n",
    "        #print(n)\n",
    "        prv = open(n, encoding=\"latin1\").read()\n",
    "        doc_len.append(len(prv))\n",
    "        sens = prv.split(\"\\n\")\n",
    "        sens = [len(s) for s in sens]\n",
    "        sen_len.append(np.mean(sens))\n",
    "    print(np.mean(doc_len), np.mean(sen_len))\n",
    "    student_senlen.append(np.mean(sen_len))\n",
    "    print(\"pros\")\n",
    "    names = glob.glob(datdir+\"vartra/sent-repres/*PT_\"+cat+\"*.vrt\")\n",
    "    doc_len, sen_len = [],[]\n",
    "    for n in names:\n",
    "        prv = open(n, encoding=\"latin1\").read()\n",
    "        doc_len.append(len(prv))\n",
    "        sens = prv.split(\"\\n\")\n",
    "        sens = [len(s) for s in sens]\n",
    "        sen_len.append(np.mean(sens))\n",
    "    print(np.mean(doc_len), np.mean(sen_len))\n",
    "    professional_senlen.append(np.mean(sen_len))\n",
    "    print(\"\\n\")\n",
    "    "
   ]
  },
  {
   "cell_type": "code",
   "execution_count": 224,
   "metadata": {},
   "outputs": [],
   "source": [
    "symmetric_differences={\"language1\":[],\"language2\":[],\"ngram\":[],\"symm_diff\":[]}"
   ]
  },
  {
   "cell_type": "code",
   "execution_count": 226,
   "metadata": {},
   "outputs": [],
   "source": [
    "symmetric_goVpt = []\n",
    "symmetric_goVst = []"
   ]
  },
  {
   "cell_type": "code",
   "execution_count": 227,
   "metadata": {},
   "outputs": [
    {
     "name": "stdout",
     "output_type": "stream",
     "text": [
      "\n",
      "139994\n",
      "139994\n",
      "139994\n",
      "139994\n"
     ]
    }
   ],
   "source": [
    "\n",
    "cat = \"\"\n",
    "print(cat)\n",
    "\n",
    "dePOS = poseq(datdir+\"croco_for_english_study/GO/*\"+cat+\"*\")\n",
    "#print(len(dePOS.split(\"\\n\")))\n",
    "#trigrammi banali\n",
    "n=140000\n",
    "ngram=7\n",
    "go_tri = list(nltk.ngrams(dePOS.split()[:n],ngram))\n",
    "print(len(go_tri))\n",
    "enPOS = poseq(datdir+\"croco_for_english_study/EO/*\"+cat+\"*\")\n",
    "eo_tri = list(nltk.ngrams(enPOS.split()[:n],ngram))\n",
    "print(len(eo_tri))\n",
    "stPOS = poseq(datdir+\"croco_for_english_study/ST/*\"+cat+\"*\")\n",
    "st_tri = list(nltk.ngrams(stPOS.split()[:n],ngram))\n",
    "print(len(st_tri))\n",
    "prPOS = poseq(datdir+\"croco_for_english_study/PT/*\"+cat+\"*\")\n",
    "pr_tri = list(nltk.ngrams(prPOS.split()[:n],ngram))\n",
    "print(len(pr_tri))"
   ]
  },
  {
   "cell_type": "code",
   "execution_count": 228,
   "metadata": {},
   "outputs": [],
   "source": [
    "go_tri, eo_tri, st_tri, pr_tri = set(go_tri), set(eo_tri), set(st_tri), set(pr_tri)\n",
    "symmetric_goVpt.append(len(go_tri.symmetric_difference(pr_tri)))\n",
    "symmetric_goVst.append(len(go_tri.symmetric_difference(st_tri)))"
   ]
  },
  {
   "cell_type": "code",
   "execution_count": 230,
   "metadata": {},
   "outputs": [],
   "source": [
    "go_fre = nltk.FreqDist(go_tri)\n",
    "eo_fre = nltk.FreqDist(eo_tri)\n",
    "#pr_fre = nltk.FreqDist(pr_tri)\n",
    "#st_fre = nltk.FreqDist(st_tri)"
   ]
  },
  {
   "cell_type": "code",
   "execution_count": null,
   "metadata": {},
   "outputs": [],
   "source": []
  },
  {
   "cell_type": "code",
   "execution_count": 232,
   "metadata": {},
   "outputs": [
    {
     "data": {
      "text/plain": [
       "(98059, 100570)"
      ]
     },
     "execution_count": 232,
     "metadata": {},
     "output_type": "execute_result"
    }
   ],
   "source": [
    "len(go_fre.hapaxes()), len(eo_fre.hapaxes()) #len(pr_fre.hapaxes()),len(st_fre.hapaxes()) "
   ]
  },
  {
   "cell_type": "code",
   "execution_count": 233,
   "metadata": {},
   "outputs": [
    {
     "data": {
      "text/plain": [
       "(0, 0)"
      ]
     },
     "execution_count": 233,
     "metadata": {},
     "output_type": "execute_result"
    }
   ],
   "source": [
    "go_fre.Nr(2), eo_fre.Nr(2) #freq(('DET', 'NOUN', '_', 'ADP', 'DET', 'NOUN'))"
   ]
  },
  {
   "cell_type": "code",
   "execution_count": 234,
   "metadata": {},
   "outputs": [
    {
     "data": {
      "text/plain": [
       "0.058355555555555556"
      ]
     },
     "execution_count": 234,
     "metadata": {},
     "output_type": "execute_result"
    }
   ],
   "source": [
    "from difflib import SequenceMatcher\n",
    "SequenceMatcher(None, dePOS[:90000], stPOS[:90000]).ratio() #cioe senti io, boh."
   ]
  },
  {
   "cell_type": "code",
   "execution_count": null,
   "metadata": {},
   "outputs": [],
   "source": []
  },
  {
   "cell_type": "code",
   "execution_count": null,
   "metadata": {},
   "outputs": [],
   "source": []
  },
  {
   "cell_type": "code",
   "execution_count": 235,
   "metadata": {},
   "outputs": [
    {
     "name": "stdout",
     "output_type": "stream",
     "text": [
      "178925 140698 143321\n"
     ]
    }
   ],
   "source": [
    "print(len(go_tri.symmetric_difference(eo_tri)),len(go_tri.symmetric_difference(st_tri)), len(go_tri.symmetric_difference(pr_tri)))"
   ]
  },
  {
   "cell_type": "code",
   "execution_count": 236,
   "metadata": {},
   "outputs": [
    {
     "data": {
      "text/plain": [
       "(88207, 90718)"
      ]
     },
     "execution_count": 236,
     "metadata": {},
     "output_type": "execute_result"
    }
   ],
   "source": [
    "len(go_tri.difference(eo_tri)),len(eo_tri.difference(go_tri))"
   ]
  },
  {
   "cell_type": "code",
   "execution_count": 237,
   "metadata": {},
   "outputs": [],
   "source": [
    "#"
   ]
  },
  {
   "cell_type": "code",
   "execution_count": 239,
   "metadata": {},
   "outputs": [
    {
     "name": "stdout",
     "output_type": "stream",
     "text": [
      "178925 140698 143321\n"
     ]
    }
   ],
   "source": [
    "#symmetric_differences[str(ngram)] = []\n",
    "\n",
    "def diffs(diz_ref, diz_con):\n",
    "    differ = []\n",
    "    for diz in diz_con:\n",
    "        differ.append(len(diz_ref.symmetric_difference(diz)))\n",
    "    return differ\n",
    "\n",
    "print(len(go_tri.symmetric_difference(eo_tri)),len(go_tri.symmetric_difference(st_tri)), len(go_tri.symmetric_difference(pr_tri)))\n",
    "cons = {\"go\":go_tri, \"eo\":eo_tri, \"st\":st_tri, \"pr\":pr_tri}\n",
    "aha = [k for k in cons.keys()]\n",
    "lans = cons.values()\n",
    "\n",
    "for k in cons.keys():\n",
    "    c = cons[k]\n",
    "    dif = diffs(c,lans)\n",
    "    for i in range(len(dif)):\n",
    "        e=dif[i]\n",
    "        other=aha[i]\n",
    "        symmetric_differences[\"language1\"].append(k)\n",
    "        symmetric_differences[\"language2\"].append(other)\n",
    "        symmetric_differences[\"ngram\"].append(str(ngram))\n",
    "        symmetric_differences[\"symm_diff\"].append(e)\n",
    "\n"
   ]
  },
  {
   "cell_type": "code",
   "execution_count": 240,
   "metadata": {},
   "outputs": [
    {
     "data": {
      "text/plain": [
       "[143321, 173158, 129659, 0]"
      ]
     },
     "execution_count": 240,
     "metadata": {},
     "output_type": "execute_result"
    }
   ],
   "source": [
    "diffs(pr_tri,cons.values())"
   ]
  },
  {
   "cell_type": "code",
   "execution_count": 241,
   "metadata": {},
   "outputs": [],
   "source": [
    "sim = pd.DataFrame(symmetric_differences)#, index=aha*int((len(symmetric_differences[\"ngram\"])/4)))"
   ]
  },
  {
   "cell_type": "code",
   "execution_count": 243,
   "metadata": {},
   "outputs": [],
   "source": [
    "def logs(array): \n",
    "    ecco = np.log2(np.mean(array))\n",
    "    return ecco-5"
   ]
  },
  {
   "cell_type": "code",
   "execution_count": 246,
   "metadata": {},
   "outputs": [
    {
     "data": {
      "text/plain": [
       "<seaborn.axisgrid.FacetGrid at 0x1a54a17908>"
      ]
     },
     "execution_count": 246,
     "metadata": {},
     "output_type": "execute_result"
    },
    {
     "data": {
      "image/png": "[encoded data removed]",
      "text/plain": [
       "<Figure size 201.6x288 with 1 Axes>"
      ]
     },
     "metadata": {
      "needs_background": "light"
     },
     "output_type": "display_data"
    },
    {
     "data": {
      "image/png": "[encoded data removed]",
      "text/plain": [
       "<Figure size 762.375x720 with 4 Axes>"
      ]
     },
     "metadata": {
      "needs_background": "light"
     },
     "output_type": "display_data"
    }
   ],
   "source": [
    "from numpy import median\n",
    "import seaborn as sns\n",
    "ax = sns.catplot(x=\"language2\", y=\"symm_diff\",col='ngram', data=sim, estimator=median,height=4, aspect=.7,kind='bar')\n",
    "sns.catplot('language2','symm_diff',hue='ngram',col='language1',data=sim,kind='bar',col_wrap=2,estimator=np.mean)"
   ]
  },
  {
   "cell_type": "code",
   "execution_count": 464,
   "metadata": {},
   "outputs": [],
   "source": [
    "#sim"
   ]
  },
  {
   "cell_type": "code",
   "execution_count": 247,
   "metadata": {},
   "outputs": [
    {
     "name": "stdout",
     "output_type": "stream",
     "text": [
      "1\n",
      "student var 16\n",
      "professional var 16\n",
      "2\n",
      "student var 221\n",
      "professional var 224\n",
      "3\n",
      "student var 2004\n",
      "professional var 2072\n",
      "4\n",
      "student var 10293\n",
      "professional var 10785\n",
      "5\n",
      "student var 29934\n",
      "professional var 31555\n",
      "6\n",
      "student var 58956\n",
      "professional var 61849\n",
      "7\n",
      "student var 89459\n",
      "professional var 92642\n"
     ]
    }
   ],
   "source": [
    "# Question: are students more repetitive in their use of PoS patterns? \n",
    "\n",
    "#1. overall (adapted) distance: inner diversity. \n",
    "cat=''\n",
    "n=140000\n",
    "stu, pro = [],[]\n",
    "stPOS = poseq(datdir+\"croco_for_english_study/ST/*\"+cat+\"*\")\n",
    "prPOS = poseq(datdir+\"croco_for_english_study/PT/*\"+cat+\"*\")\n",
    "for ngram in range(1,8):\n",
    "    print(ngram)\n",
    "    st_tri = list(nltk.ngrams(stPOS.split()[:n],ngram))\n",
    "    se = set(st_tri)\n",
    "    print(\"student var\", len(se))\n",
    "    stu.append(len(se))\n",
    "    pr_tri = list(nltk.ngrams(prPOS.split()[:n],ngram))\n",
    "    se = set(pr_tri)\n",
    "    print(\"professional var\", len(se))\n",
    "    pro.append(len(se))\n",
    "    \n"
   ]
  },
  {
   "cell_type": "code",
   "execution_count": 248,
   "metadata": {},
   "outputs": [
    {
     "name": "stdout",
     "output_type": "stream",
     "text": [
      "FICTION\n",
      "62770\n",
      "ESSAY\n",
      "77863\n",
      "POPSCI\n",
      "111221\n",
      "INSTR\n",
      "101314\n",
      "SHARE\n",
      "122541\n",
      "SPEECH\n",
      "120315\n",
      "TOU\n",
      "99227\n",
      "FICTION\n",
      "[15, 179, 1138, 3558, 6702, 9514, 11303]\n",
      "[15, 198, 1556, 6622, 15434, 24827, 31781]\n",
      "\n",
      "\n",
      "ESSAY\n",
      "[15, 184, 1202, 3762, 7420, 11003, 13634]\n",
      "[15, 195, 1493, 5652, 12661, 20740, 27540]\n",
      "\n",
      "\n",
      "POPSCI\n",
      "[15, 185, 1324, 4568, 9538, 14756, 18816]\n",
      "[15, 205, 1563, 6071, 13604, 21793, 28081]\n",
      "\n",
      "\n",
      "INSTR\n",
      "[16, 199, 1262, 4028, 8130, 12268, 15498]\n",
      "[16, 207, 1514, 5428, 11831, 18963, 24885]\n",
      "\n",
      "\n",
      "SHARE\n",
      "[16, 196, 1347, 4757, 10128, 15908, 20479]\n",
      "[16, 208, 1566, 6110, 13840, 22543, 29511]\n",
      "\n",
      "\n",
      "SPEECH\n",
      "[15, 191, 1343, 4672, 9933, 15568, 20030]\n",
      "[15, 190, 1471, 5727, 13096, 21562, 28650]\n",
      "\n",
      "\n",
      "TOU\n",
      "[15, 179, 1201, 4115, 8649, 13423, 16960]\n",
      "[16, 193, 1411, 5519, 12876, 21238, 27741]\n",
      "\n",
      "\n"
     ]
    }
   ],
   "source": [
    "#2. register distance\n",
    "categories = \"\"\"FICTION ESSAY POPSCI INSTR SHARE SPEECH TOU\"\"\".split()\n",
    "\n",
    "inndiv_st, inndiv_pr = {},{}\n",
    "\n",
    "inndiv_eo = {}\n",
    "inndiv_go = {}\n",
    "\n",
    "for cat in categories:\n",
    "    print(cat)\n",
    "    inndiv_st[cat] = []\n",
    "    inndiv_pr[cat] = []\n",
    "    inndiv_go[cat] = []\n",
    "    inndiv_eo[cat] = []\n",
    "    \n",
    "    \n",
    "    stPOS = poseq(datdir+\"croco_for_english_study/ST/*\"+cat+\"*\")\n",
    "    prPOS = poseq(datdir+\"croco_for_english_study/PT/*\"+cat+\"*\")\n",
    "    \n",
    "    eoPOS = poseq(datdir+\"croco_for_english_study/EO/*\"+cat+\"*\")\n",
    "    goPOS = poseq(datdir+\"croco_for_english_study/GO/*\"+cat+\"*\")\n",
    "    \n",
    "    n=min(len(stPOS), len(prPOS))-100\n",
    "    print(n)\n",
    "    prv_st, prv_pr = [],[]\n",
    "    for ngram in range(1,8):\n",
    "        st_tri = list(nltk.ngrams(stPOS.split()[:n],ngram))\n",
    "        se = set(st_tri)\n",
    "        inndiv_st[cat].append(len(se))\n",
    "        \n",
    "        pr_tri = list(nltk.ngrams(prPOS.split()[:n],ngram))\n",
    "        se = set(pr_tri)\n",
    "        inndiv_pr[cat].append(len(se))\n",
    "        \n",
    "        go_tri = list(nltk.ngrams(goPOS.split()[:n],ngram))\n",
    "        se = set(go_tri)\n",
    "        inndiv_go[cat].append(len(se))\n",
    "        \n",
    "        eo_tri = list(nltk.ngrams(eoPOS.split()[:n],ngram))\n",
    "        se = set(eo_tri)\n",
    "        inndiv_eo[cat].append(len(se))\n",
    "        \n",
    "        \n",
    "sanity_check = []\n",
    "        \n",
    "for cat in categories:\n",
    "    print(cat)\n",
    "    st_=inndiv_st[cat]\n",
    "    pr_=inndiv_pr[cat]\n",
    "    sanity_check.append(pr_[-1])\n",
    "    print(st_)\n",
    "    print(pr_)\n",
    "    print(\"\\n\")"
   ]
  },
  {
   "cell_type": "code",
   "execution_count": 249,
   "metadata": {},
   "outputs": [
    {
     "data": {
      "image/png": "[encoded data removed]",
      "text/plain": [
       "<Figure size 432x288 with 1 Axes>"
      ]
     },
     "metadata": {
      "needs_background": "light"
     },
     "output_type": "display_data"
    },
    {
     "data": {
      "image/png": "[encoded data removed]",
      "text/plain": [
       "<Figure size 432x288 with 1 Axes>"
      ]
     },
     "metadata": {
      "needs_background": "light"
     },
     "output_type": "display_data"
    },
    {
     "data": {
      "image/png": "[encoded data removed]",
      "text/plain": [
       "<Figure size 432x288 with 1 Axes>"
      ]
     },
     "metadata": {
      "needs_background": "light"
     },
     "output_type": "display_data"
    },
    {
     "data": {
      "image/png": "[encoded data removed]",
      "text/plain": [
       "<Figure size 432x288 with 1 Axes>"
      ]
     },
     "metadata": {
      "needs_background": "light"
     },
     "output_type": "display_data"
    },
    {
     "data": {
      "image/png": "[encoded data removed]",
      "text/plain": [
       "<Figure size 1440x720 with 7 Axes>"
      ]
     },
     "metadata": {
      "needs_background": "light"
     },
     "output_type": "display_data"
    }
   ],
   "source": [
    "# 3. difference in patterns in growing ngrams\n",
    "\n",
    "from matplotlib import pyplot as plt\n",
    "\n",
    "#\n",
    "basis = [1,2,3,4,5,6,7]\n",
    "\n",
    "for cat in categories:\n",
    "    #print(cat)\n",
    "    stu_ = inndiv_st[cat]\n",
    "    pro_ = inndiv_pr[cat]\n",
    "    plt.plot(stu_,pro_,label=cat)  \n",
    "    #print(\"\\n\")\n",
    "\n",
    "plt.xlabel('N of Patterns in Students')\n",
    "plt.ylabel('N of Patterns in Professionals')\n",
    "plt.title('Student - Professional Pattern Difference through categories')\n",
    "plt.legend()\n",
    "plt.savefig(\"/Users/yuribizzoni/Stu_Pro.png\")\n",
    "plt.show()\n",
    "\n",
    "#plt.subplot(2,4,2)\n",
    "for cat in categories:\n",
    "    #print(cat)\n",
    "    go_ = inndiv_go[cat]\n",
    "    pro_ = inndiv_pr[cat]\n",
    "    plt.plot(go_,pro_,label=cat)  \n",
    "    #print(\"\\n\")\n",
    "\n",
    "plt.xlabel('N of Patterns in Professionals')\n",
    "plt.ylabel('N of Patterns in GO')\n",
    "plt.title('Professionals - GO Pattern Difference through categories')\n",
    "plt.legend()\n",
    "plt.savefig(\"/Users/yuribizzoni/Pro_GO.png\")\n",
    "plt.show()\n",
    "\n",
    "#plt.subplot(2,4,3)\n",
    "for cat in categories:\n",
    "    #print(cat)\n",
    "    stu_ = inndiv_st[cat]\n",
    "    go_ = inndiv_go[cat]\n",
    "    plt.plot(stu_,go_,label=cat)  \n",
    "    #print(\"\\n\")\n",
    "\n",
    "plt.xlabel('N of Patterns in Students')\n",
    "plt.ylabel('N of Patterns in GO')\n",
    "plt.title('Students - GO Pattern Difference through categories')\n",
    "plt.legend()\n",
    "plt.savefig(\"/Users/yuribizzoni/Stu_Go.png\")\n",
    "plt.show()\n",
    "\n",
    "#plt.subplot(2,4,4)\n",
    "for cat in categories:\n",
    "    #print(cat)\n",
    "    stu_ = inndiv_go[cat]\n",
    "    pro_ = inndiv_eo[cat]\n",
    "    plt.plot(stu_,pro_,label=cat)  \n",
    "    #print(\"\\n\")\n",
    "\n",
    "plt.xlabel('N of Patterns in GO')\n",
    "plt.ylabel('N of Patterns in EO')\n",
    "plt.title('GO - EO Pattern Difference through categories')\n",
    "plt.legend()\n",
    "plt.savefig(\"/Users/yuribizzoni/Stu_Pro2.png\")\n",
    "plt.show()\n",
    "\n",
    "#plt.savefig(\"/Users/yuribizzoni/four_comparisons.png\")\n",
    "\n",
    "#Notice the differences in the x axis\n",
    "\n",
    "\n",
    "#can i even do this?\n",
    "\n",
    "cols = 'r b g y c m k'.split()\n",
    "e,j=0,1\n",
    "\n",
    "fig = plt.figure(figsize=(20,10))\n",
    "\n",
    "for i in range(len(categories)):\n",
    "    cat=categories[i]\n",
    "    #print(cat)\n",
    "    stu_ = inndiv_st[cat]\n",
    "    pro_ = inndiv_pr[cat]\n",
    "    go_ = inndiv_go[cat]\n",
    "    plt.subplot(2,4,j)\n",
    "    j+=1\n",
    "    plt.plot(basis,stu_,label=\"Stu\", color=cols[e],linestyle='-') \n",
    "    plt.plot(basis,go_,label=\"GO\", color=cols[e],linestyle=':')\n",
    "    plt.title(cat)\n",
    "    e+=1\n",
    "    #print(\"\\n\")\n",
    "    plt.legend()  \n",
    "    if i>4: plt.xlabel('n-grams')\n",
    "    if i==0 or i==4: plt.ylabel('N of Patterns')\n",
    "#plt.title('Student - Professional Pattern Difference through categories')\n",
    "plt.legend()  \n",
    "plt.savefig(\"/Users/yuribizzoni/Stu_Pro_Cats.png\")\n",
    "plt.show()   \n",
    "    "
   ]
  },
  {
   "cell_type": "code",
   "execution_count": null,
   "metadata": {},
   "outputs": [],
   "source": []
  },
  {
   "cell_type": "code",
   "execution_count": null,
   "metadata": {},
   "outputs": [],
   "source": []
  }
 ],
 "metadata": {
  "kernelspec": {
   "display_name": "Python 3",
   "language": "python",
   "name": "python3"
  },
  "language_info": {
   "codemirror_mode": {
    "name": "ipython",
    "version": 3
   },
   "file_extension": ".py",
   "mimetype": "text/x-python",
   "name": "python",
   "nbconvert_exporter": "python",
   "pygments_lexer": "ipython3",
   "version": "3.6.8"
  }
 },
 "nbformat": 4,
 "nbformat_minor": 4
}
